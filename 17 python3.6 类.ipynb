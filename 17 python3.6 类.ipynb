{
 "cells": [
  {
   "cell_type": "markdown",
   "metadata": {},
   "source": [
    "### 1、类的静态属性。\n",
    "\n",
    "* 静态属性的定义：通过类或类实例点静态属性进行调用。\n"
   ]
  },
  {
   "cell_type": "code",
   "execution_count": 7,
   "metadata": {},
   "outputs": [
    {
     "name": "stdout",
     "output_type": "stream",
     "text": [
      "9000\n"
     ]
    }
   ],
   "source": [
    "# %load 类方法.py\n",
    "# 静态属性。\n",
    "class students:\n",
    "    def __init__(self,name,id,age,money=500): # 类实例属性\n",
    "        self.name=name\n",
    "        self.id=id\n",
    "        self.age=age\n",
    "        self.money=money\n",
    "    @property    # 静态属性的关键字\n",
    "    def cost(self):\n",
    "        return self.age*self.money\n",
    "\n",
    "r1 = students('alex','150540',18)\n",
    "print(r1.cost)"
   ]
  },
  {
   "cell_type": "markdown",
   "metadata": {},
   "source": [
    "### jupyter notebook的基本操作。\n",
    "  * 连接博客：https://blog.csdn.net/liuyanlin610/article/details/76231958\n",
    "\n",
    "### 2、类方法"
   ]
  },
  {
   "cell_type": "code",
   "execution_count": 22,
   "metadata": {},
   "outputs": [
    {
     "name": "stdout",
     "output_type": "stream",
     "text": [
      "<class '__main__.students'>\n",
      "----------> 666 哈哈\n",
      "哈哈\n"
     ]
    }
   ],
   "source": [
    "class students:\n",
    "    tag = '666'\n",
    "    def __init__(self,name,id,age,money=500): # 类实例属性\n",
    "        self.name=name\n",
    "        self.id=id\n",
    "        self.age=age\n",
    "        self.money=money\n",
    "    @property    # 静态属性的关键字\n",
    "    def cost(self):\n",
    "        return self.age*self.money,self.tag\n",
    "    @classmethod\n",
    "    def tell_info(cls,x):\n",
    "        print(cls)\n",
    "        print('---------->',cls.tag,x)\n",
    "        return x\n",
    "\n",
    "r1 = students('alex','150540',18)\n",
    "# print(r1.cost)\n",
    "# r1.tell_info('八戒')   # 实例化也可以调用\n",
    "print(students.tell_info('哈哈')) # 通过类名调用\n"
   ]
  },
  {
   "cell_type": "markdown",
   "metadata": {},
   "source": [
    "### 3、静态方法\n",
    "* 静态方法定义：静态方法只是名义上归属类管理，不能使用类变量和实例变量，是类的工具包。"
   ]
  },
  {
   "cell_type": "code",
   "execution_count": 25,
   "metadata": {},
   "outputs": [
    {
     "name": "stdout",
     "output_type": "stream",
     "text": [
      "(1, 2, 3)\n"
     ]
    }
   ],
   "source": [
    "class students:\n",
    "    tag = '666'\n",
    "    def __init__(self,name,id,age,money=500): # 类实例属性\n",
    "        self.name=name\n",
    "        self.id=id\n",
    "        self.age=age\n",
    "        self.money=money\n",
    "    @property    # 静态属性的关键字\n",
    "    def cost(self):\n",
    "        return self.age*self.money,self.tag\n",
    "    @classmethod\n",
    "    def tell_info(cls,x):\n",
    "        print(cls)\n",
    "        print('---------->',cls.tag,x)\n",
    "        return x\n",
    "    @staticmethod\n",
    "    def wash_body(a,b,c):\n",
    "        return a,b,c\n",
    "r2 = students('alex','150540',18)\n",
    "print(r2.wash_body(1,2,3))"
   ]
  },
  {
   "cell_type": "markdown",
   "metadata": {},
   "source": [
    "### 4、测试、入门小伙伴可以看看。"
   ]
  },
  {
   "cell_type": "code",
   "execution_count": 28,
   "metadata": {},
   "outputs": [
    {
     "name": "stdout",
     "output_type": "stream",
     "text": [
      "40\n",
      "666\n"
     ]
    }
   ],
   "source": [
    "class students:\n",
    "    tag = '666'\n",
    "    def __init__(self,name,id,age,money=500): # 类实例属性\n",
    "        self.name=name\n",
    "        self.id=id\n",
    "        self.age=age\n",
    "        self.money=money\n",
    "    @property    # 静态属性的关键字\n",
    "    def cost(self):\n",
    "        return self.age*self.money,self.tag\n",
    "    @classmethod\n",
    "    def tell_info(cls,x):\n",
    "        print(cls)\n",
    "        print('---------->',cls.tag,x)\n",
    "        return x\n",
    "    @staticmethod\n",
    "    def wash_body(a,b,c):\n",
    "        return a,b,c\n",
    "    def func(self,number):\n",
    "        return self.money*number\n",
    "    def test(strs):   # 这种定义类实例是无法调用的。\n",
    "        return strs\n",
    "\n",
    "s1 = students('小李','123',23,money=20)\n",
    "print(s1.func(2))\n",
    "print(students.test('666'))"
   ]
  },
  {
   "cell_type": "markdown",
   "metadata": {},
   "source": [
    "* 没有传self的话类实例是不可以调用的。应为类实例调用的话都需要把类传入到方法里面去。\n",
    "\n",
    "### 5、组合"
   ]
  },
  {
   "cell_type": "code",
   "execution_count": 4,
   "metadata": {},
   "outputs": [
    {
     "name": "stdout",
     "output_type": "stream",
     "text": [
      "北京\n"
     ]
    }
   ],
   "source": [
    "class School:\n",
    "    def __init__(self,name,addr):\n",
    "        self.name = name\n",
    "        self.addr = addr\n",
    "    def zhao_sheng(self):\n",
    "        print(self.name)\n",
    "class Course:\n",
    "    def __init__(self,name,price,period,school):\n",
    "        self.name = name\n",
    "        self.price = price\n",
    "        self.period = period\n",
    "        self.school = school\n",
    "s1 = School('linux','广州')\n",
    "s2 = School('linux','北京')\n",
    "s3 = School('linux','贵州')\n",
    "\n",
    "c1 = Course('基础',100,'2min',s2)\n",
    "print(c1.school.addr)\n"
   ]
  },
  {
   "cell_type": "code",
   "execution_count": 8,
   "metadata": {},
   "outputs": [
    {
     "name": "stdout",
     "output_type": "stream",
     "text": [
      "\n",
      "1 linux 广州\n",
      "2 Linux 北京\n",
      "3 Linux 贵州\n",
      "\n",
      "school>>:3\n",
      "name>>:吴先生\n",
      "price>>:500￥\n",
      "hose>>:5hose\n",
      "吴先生 选择了 linux 在 贵州 校区\n",
      "\n",
      "1 linux 广州\n",
      "2 Linux 北京\n",
      "3 Linux 贵州\n",
      "\n",
      "school>>:1\n",
      "name>>:李大郎\n",
      "price>>:400￥\n",
      "hose>>:7hose\n",
      "李大郎 选择了 linux 在 广州 校区\n"
     ]
    }
   ],
   "source": [
    "s1 = School('linux','广州')\n",
    "s2 = School('linux','北京')\n",
    "s3 = School('linux','贵州')\n",
    "msg = '''\n",
    "1 linux 广州\n",
    "2 Linux 北京\n",
    "3 Linux 贵州\n",
    "'''\n",
    "n=0\n",
    "while n<2:\n",
    "    print(msg)\n",
    "    menu = {\n",
    "        '1':s1,\n",
    "        '2':s2,\n",
    "        '3':s3\n",
    "    }\n",
    "    choice = input('school>>:')\n",
    "    school_obj = menu[choice]\n",
    "    choice_name = input('name>>:')\n",
    "    choice_price = input('price>>:')\n",
    "    choice_hose = input('hose>>:')\n",
    "    s = Course(choice_name,choice_price,choice_hose,school_obj)\n",
    "    print('%s 选择了 %s 在 %s 校区'%(s.name,s.school.name,s.school.addr))\n",
    "    n += 1"
   ]
  },
  {
   "cell_type": "code",
   "execution_count": null,
   "metadata": {},
   "outputs": [],
   "source": []
  }
 ],
 "metadata": {
  "kernelspec": {
   "display_name": "Python 3",
   "language": "python",
   "name": "python3"
  }
 },
 "nbformat": 4,
 "nbformat_minor": 2
}
