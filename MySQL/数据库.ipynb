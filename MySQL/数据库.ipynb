{
 "cells": [
  {
   "cell_type": "markdown",
   "metadata": {},
   "source": [
    "### 安装与准备\n",
    "\n",
    "这是python3的库，所以windows下安装不会像python2那样各种奇葩VC错误。是比较方便的傻瓜安装。\n",
    "\n",
    "* Windows平台下:  py -3 -m pip install PyMySQL\n",
    "* Linux： python3 pip install PyMySQL\n",
    "\n",
    "当然，引入的时候： import pymysql"
   ]
  },
  {
   "cell_type": "markdown",
   "metadata": {},
   "source": [
    "### 数据库连接对象connection\n",
    "\n",
    "\n",
    "* connection\t创建connection对象\n",
    "* cursor()\t使用该链接创建+返回游标\n",
    "* commit()\t提交当前事务\n",
    "* rollback()\t回滚当前十五\n",
    "* close()\t关闭连接\n",
    "\n",
    "#### 介绍一下connection的参数\n",
    "\n",
    "* host mysql服务器地址\n",
    "* port 数字类型 端口\n",
    "* user 用户名\n",
    "* passwd 密码\n",
    "* db 数据库名称\n",
    "* charset 连接编码，需要显式指明编码方式"
   ]
  },
  {
   "cell_type": "markdown",
   "metadata": {},
   "source": [
    "### 数据库游标对象cursor\n",
    "\n",
    "\n",
    "* execute(op[,args])\t执行一个数据库查询和命令\n",
    "* fetchone()\t取得结果集下一行\n",
    "* fetchmany(size)\t取得结果集size行\n",
    "* fetchall()\t取得结果集剩下所有行\n",
    "* rowcount\t最近一次execute返回数据的行数或影响行数\n",
    "* close()\t关闭cursor"
   ]
  },
  {
   "cell_type": "code",
   "execution_count": 7,
   "metadata": {},
   "outputs": [
    {
     "name": "stdout",
     "output_type": "stream",
     "text": [
      "3\n",
      "(('小米（MI）小米米键 颜色随机 官方正品111', 'http://image.taotao.com/jd/0a182402ff97495f882f20244c71284b.jpg', 1900), ('三星(Samsung) UA65HU8800JXXZ 65英寸 UHD 液晶电视', 'http://image.taotao.com/jd/a0f33d0c8f9744988bfccfc95b6c80bc.jpg', 25999000))\n",
      "2\n"
     ]
    }
   ],
   "source": [
    "import pymysql\n",
    "    \n",
    "# 连接数据库，设置主机或者IP，端口（默认3306可以不写），设置账号，设置密码，设置数据库\n",
    "db = pymysql.connect(\"localhost\",\"root\",\"123456\",\"python\")\n",
    "\n",
    "# mysql语句\n",
    "sql = 'select item_title,item_image,item_price from tb_cart;'\n",
    "\n",
    "#获取游标对象\n",
    "cursor = db.cursor()\n",
    "\n",
    "#将数据库语句发送给数据库\n",
    "cursor.execute(sql)\n",
    "\n",
    "#接收数据返回的数据\n",
    "# data = cursor.fetchall()\n",
    "\n",
    "data = cursor.fetchmany(2)\n",
    "print(cursor.rowcount)\n",
    "print(data)\n",
    "print(len(data))\n",
    "\n",
    "\n",
    "#用完，关闭连接\n",
    "#关闭游标\n",
    "cursor.close()\n",
    "#关闭数据库连接\n",
    "db.close()"
   ]
  },
  {
   "cell_type": "code",
   "execution_count": 10,
   "metadata": {},
   "outputs": [
    {
     "name": "stdout",
     "output_type": "stream",
     "text": [
      "((1, 'xiaohong', 12), (2, 'xiaohong', 12))\n"
     ]
    }
   ],
   "source": [
    "import pymysql\n",
    " \n",
    "# 打开数据库连接\n",
    "db = pymysql.connect(\"localhost\",\"root\",\"root\",\"test\" )\n",
    " \n",
    "# 使用 cursor() 方法创建一个游标对象 cursor\n",
    "cursor = db.cursor()\n",
    " \n",
    "# 使用 execute()  方法执行 SQL 查询 \n",
    "# cursor.execute(\"INSERT INTO test.`user` (username,age) VALUES ('xiaohong',12);\")\n",
    "cursor.execute(\"select * from user\")\n",
    " \n",
    "# 使用 fetchone() 方法获取单条数据.\n",
    "data = cursor.fetchall()\n",
    " \n",
    "print (data)\n",
    " \n",
    "# 关闭数据库连接\n",
    "db.close()\n"
   ]
  },
  {
   "cell_type": "code",
   "execution_count": null,
   "metadata": {},
   "outputs": [
    {
     "name": "stderr",
     "output_type": "stream",
     "text": [
      "(15860) wsgi starting up on http://0.0.0.0:8000\n",
      "(15860) accepted ('127.0.0.1', 56524)\n",
      "127.0.0.1 - - [19/Oct/2018 15:42:13] \"GET /socket.io/?EIO=3&transport=polling&t=MQBHb2C HTTP/1.1\" 200 401 0.001002\n"
     ]
    },
    {
     "name": "stdout",
     "output_type": "stream",
     "text": [
      "connect  5dbfea4878814a6b98d5500593d0ff39\n"
     ]
    },
    {
     "name": "stderr",
     "output_type": "stream",
     "text": [
      "(15860) accepted ('127.0.0.1', 56526)\n",
      "(15860) accepted ('127.0.0.1', 56527)\n",
      "127.0.0.1 - - [19/Oct/2018 15:42:13] \"GET /socket.io/?EIO=3&transport=polling&t=MQBHb73&sid=5dbfea4878814a6b98d5500593d0ff39 HTTP/1.1\" 200 235 0.300983\n"
     ]
    }
   ],
   "source": [
    "import socketio\n",
    "import eventlet\n",
    "import random\n",
    "import pymysql\n",
    " \n",
    "\n",
    "\n",
    "#实例化socketio实例化话对象\n",
    "sio = socketio.Server()\n",
    "\n",
    "#@sio.on()监听什么事件\n",
    "@sio.on('connect')\n",
    "def connect(sid, environ):\n",
    "    print('connect ', sid)\n",
    "    \n",
    "\n",
    "#当前这个项目暂时没用到\n",
    "@sio.on('message')\n",
    "def message(sid, data):\n",
    "    print('message ', data)\n",
    "    if data=='getBuyCart':\n",
    "        # 打开数据库连接\n",
    "        db = pymysql.connect(\"localhost\",\"root\",\"123456\",\"python\" )\n",
    "        # 使用 cursor() 方法创建一个游标对象 cursor\n",
    "        cursor = db.cursor()\n",
    "        # mysql语句\n",
    "        sql = 'select item_title,item_image,item_price from tb_cart;'\n",
    "        cursor.execute(sql)\n",
    "        \n",
    "        data = cursor.fetchall()\n",
    "        \n",
    "        sio.emit('reply',data)\n",
    "    \n",
    "\n",
    "\n",
    "@sio.on('disconnect')\n",
    "def disconnect(sid):\n",
    "    print('disconnect ', sid)\n",
    "    \n",
    "\n",
    "if __name__ == '__main__':\n",
    "    # sio通过middleware转为应用服务\n",
    "    app = socketio.Middleware(sio)\n",
    "\n",
    "    # 依赖eventlet网关服务器\n",
    "    eventlet.wsgi.server(eventlet.listen(('', 8000)), app)\n"
   ]
  },
  {
   "cell_type": "code",
   "execution_count": null,
   "metadata": {},
   "outputs": [],
   "source": []
  }
 ],
 "metadata": {
  "kernelspec": {
   "display_name": "Python 3",
   "language": "python",
   "name": "python3"
  },
  "language_info": {
   "codemirror_mode": {
    "name": "ipython",
    "version": 3
   },
   "file_extension": ".py",
   "mimetype": "text/x-python",
   "name": "python",
   "nbconvert_exporter": "python",
   "pygments_lexer": "ipython3",
   "version": "3.6.5"
  }
 },
 "nbformat": 4,
 "nbformat_minor": 2
}
