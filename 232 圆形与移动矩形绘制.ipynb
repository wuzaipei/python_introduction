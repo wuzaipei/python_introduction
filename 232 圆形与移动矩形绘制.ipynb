{
 "cells": [
  {
   "cell_type": "code",
   "execution_count": 15,
   "metadata": {},
   "outputs": [
    {
     "name": "stdout",
     "output_type": "stream",
     "text": [
      "Overwriting pygameDraw.py\n"
     ]
    }
   ],
   "source": [
    "%%writefile pygameDraw.py\n",
    "#要使用必先导入\n",
    "import pygame\n",
    "#导入pygame中的所有常量\n",
    "from pygame.locals import *\n",
    "import sys\n",
    "\n",
    "\n",
    "#初始化PyGame\n",
    "pygame.init()\n",
    "\n",
    "\n",
    "#创建一个600*500的窗口\n",
    "screen = pygame.display.set_mode((800,500))\n",
    "\n",
    "\n",
    "#设置颜色、位置、圆的半径、宽度\n",
    "white = (255,255,255)\n",
    "position = (400,250)\n",
    "radius = 100\n",
    "width = 0\n",
    "blue = (0,0,255)\n",
    "\n",
    "\n",
    "\n",
    "while True:\n",
    "    for event in pygame.event.get():\n",
    "        if event.type in (QUIT,KEYDOWN):\n",
    "            sys.exit()\n",
    "    #设置窗口的颜色\n",
    "    screen.fill((0,0,0))\n",
    "    \n",
    "    pygame.draw.circle(screen, white, position, radius, width)\n",
    "    #绘制矩形\n",
    "    pygame.draw.rect(screen,(200,150,50),[10,10,150,50])\n",
    "    \n",
    "    \n",
    "    pygame.display.update()\n"
   ]
  },
  {
   "cell_type": "code",
   "execution_count": 16,
   "metadata": {},
   "outputs": [
    {
     "name": "stdout",
     "output_type": "stream",
     "text": [
      "pygame 1.9.4\n",
      "Hello from the pygame community. https://www.pygame.org/contribute.html\n"
     ]
    }
   ],
   "source": [
    "!python pygameDraw.py"
   ]
  },
  {
   "cell_type": "code",
   "execution_count": 5,
   "metadata": {},
   "outputs": [
    {
     "name": "stdout",
     "output_type": "stream",
     "text": [
      "pygame 1.9.4\n",
      "Hello from the pygame community. https://www.pygame.org/contribute.html\n",
      "Help on module pygame.draw in pygame:\n",
      "\n",
      "NAME\n",
      "    pygame.draw - pygame module for drawing shapes\n",
      "\n",
      "FUNCTIONS\n",
      "    aaline(...)\n",
      "        aaline(Surface, color, startpos, endpos, blend=1) -> Rect\n",
      "        draw fine antialiased lines\n",
      "    \n",
      "    aalines(...)\n",
      "        aalines(Surface, color, closed, pointlist, blend=1) -> Rect\n",
      "        draw a connected sequence of antialiased lines\n",
      "    \n",
      "    arc(...)\n",
      "        arc(Surface, color, Rect, start_angle, stop_angle, width=1) -> Rect\n",
      "        draw a partial section of an ellipse\n",
      "    \n",
      "    circle(...)\n",
      "        circle(Surface, color, pos, radius, width=0) -> Rect\n",
      "        draw a circle around a point\n",
      "    \n",
      "    ellipse(...)\n",
      "        ellipse(Surface, color, Rect, width=0) -> Rect\n",
      "        draw a round shape inside a rectangle\n",
      "    \n",
      "    line(...)\n",
      "        line(Surface, color, start_pos, end_pos, width=1) -> Rect\n",
      "        draw a straight line segment\n",
      "    \n",
      "    lines(...)\n",
      "        lines(Surface, color, closed, pointlist, width=1) -> Rect\n",
      "        draw multiple contiguous line segments\n",
      "    \n",
      "    polygon(...)\n",
      "        polygon(Surface, color, pointlist, width=0) -> Rect\n",
      "        draw a shape with any number of sides\n",
      "    \n",
      "    rect(...)\n",
      "        rect(Surface, color, Rect, width=0) -> Rect\n",
      "        draw a rectangle shape\n",
      "\n",
      "FILE\n",
      "    c:\\programdata\\anaconda3\\lib\\site-packages\\pygame\\draw.cp36-win_amd64.pyd\n",
      "\n",
      "\n"
     ]
    }
   ],
   "source": [
    "import pygame\n",
    "help(pygame.draw)"
   ]
  },
  {
   "cell_type": "code",
   "execution_count": null,
   "metadata": {
    "collapsed": true
   },
   "outputs": [],
   "source": [
    "import  pygame\n",
    "from pygame.locals import *\n",
    "import sys\n",
    "\n",
    "pygame.init()\n",
    "screen = pygame.display.set_mode((600,500))\n",
    "#设置一下标题\n",
    "pygame.display.set_caption('Drawing Rectangles')\n",
    "\n",
    "#设置矩形的位置和速度大小\n",
    "pos_x = 300\n",
    "pos_y = 250\n",
    "vel_x = 2\n",
    "vel_y = 1\n",
    "color = (0,0,200)\n",
    "\n",
    "while True:\n",
    "    for event in pygame.event.get():\n",
    "        if event.type in (QUIT,KEYDOWN):\n",
    "            pygame.quit()\n",
    "            sys.exit()\n",
    "\n",
    "    screen.fill(color)\n",
    "    pos_x += vel_x\n",
    "    pos_y = pos_y + vel_y\n",
    "\n",
    "    if pos_x > 500 or pos_x < 0:\n",
    "        vel_x = - vel_x\n",
    "    if pos_y > 400 or pos_y < 0:\n",
    "        vel_y = - vel_y\n",
    "\n",
    "\n",
    "    #绘制矩形\n",
    "    color1  = 255,255,0\n",
    "    width = 0\n",
    "    pos = pos_x,pos_y,100,100\n",
    "    pygame.draw.rect(screen,color1,pos,width)\n",
    "    pygame.display.update()\n",
    "\n",
    "\n",
    "\n"
   ]
  },
  {
   "cell_type": "code",
   "execution_count": 2,
   "metadata": {},
   "outputs": [
    {
     "name": "stdout",
     "output_type": "stream",
     "text": [
      "Help on built-in function rect in module pygame.draw:\n",
      "\n",
      "rect(...)\n",
      "    rect(Surface, color, Rect, width=0) -> Rect\n",
      "    draw a rectangle shape\n",
      "\n"
     ]
    }
   ],
   "source": [
    "import pygame\n",
    "help(pygame.draw.rect)"
   ]
  },
  {
   "cell_type": "code",
   "execution_count": 3,
   "metadata": {},
   "outputs": [
    {
     "name": "stdout",
     "output_type": "stream",
     "text": [
      "Help on module pygame.draw in pygame:\n",
      "\n",
      "NAME\n",
      "    pygame.draw - pygame module for drawing shapes\n",
      "\n",
      "FUNCTIONS\n",
      "    aaline(...)\n",
      "        aaline(Surface, color, startpos, endpos, blend=1) -> Rect\n",
      "        draw fine antialiased lines\n",
      "    \n",
      "    aalines(...)\n",
      "        aalines(Surface, color, closed, pointlist, blend=1) -> Rect\n",
      "        draw a connected sequence of antialiased lines\n",
      "    \n",
      "    arc(...)\n",
      "        arc(Surface, color, Rect, start_angle, stop_angle, width=1) -> Rect\n",
      "        draw a partial section of an ellipse\n",
      "    \n",
      "    circle(...)\n",
      "        circle(Surface, color, pos, radius, width=0) -> Rect\n",
      "        draw a circle around a point\n",
      "    \n",
      "    ellipse(...)\n",
      "        ellipse(Surface, color, Rect, width=0) -> Rect\n",
      "        draw a round shape inside a rectangle\n",
      "    \n",
      "    line(...)\n",
      "        line(Surface, color, start_pos, end_pos, width=1) -> Rect\n",
      "        draw a straight line segment\n",
      "    \n",
      "    lines(...)\n",
      "        lines(Surface, color, closed, pointlist, width=1) -> Rect\n",
      "        draw multiple contiguous line segments\n",
      "    \n",
      "    polygon(...)\n",
      "        polygon(Surface, color, pointlist, width=0) -> Rect\n",
      "        draw a shape with any number of sides\n",
      "    \n",
      "    rect(...)\n",
      "        rect(Surface, color, Rect, width=0) -> Rect\n",
      "        draw a rectangle shape\n",
      "\n",
      "FILE\n",
      "    c:\\programdata\\anaconda3\\lib\\site-packages\\pygame\\draw.cp36-win_amd64.pyd\n",
      "\n",
      "\n"
     ]
    }
   ],
   "source": [
    "help(pygame.draw)"
   ]
  },
  {
   "cell_type": "code",
   "execution_count": 49,
   "metadata": {},
   "outputs": [
    {
     "name": "stdout",
     "output_type": "stream",
     "text": [
      "Overwriting pygameDraw.py\n"
     ]
    }
   ],
   "source": [
    "%%writefile pygameDraw.py\n",
    "# Import a library of functions called 'pygame'\n",
    "import pygame\n",
    "from math import pi\n",
    " \n",
    "# Initialize the game engine\n",
    "pygame.init()\n",
    " \n",
    "# Define the colors we will use in RGB format\n",
    "#黑色\n",
    "BLACK = (  0,   0,   0)\n",
    "#白色\n",
    "WHITE = (255, 255, 255)\n",
    "#蓝色\n",
    "BLUE =  (  0,   0, 255)\n",
    "#绿色\n",
    "GREEN = (  0, 255,   0)\n",
    "#红色\n",
    "RED =   (255,   0,   0)\n",
    " \n",
    "# 设置800*600分辨率的窗口\n",
    "size = [800, 600]\n",
    "screen = pygame.display.set_mode(size)\n",
    "\n",
    "#设置窗口标题\n",
    "pygame.display.set_caption(\"Example code for the draw module\")\n",
    " \n",
    "#Loop until the user clicks the close button.\n",
    "done = False\n",
    "clock = pygame.time.Clock()\n",
    " \n",
    "while not done:\n",
    " \n",
    "    # This limits the while loop to a max of 10 times per second.\n",
    "    # Leave this out and we will use all CPU we can.\n",
    "    clock.tick(10)#当前绘制频率是1秒10帧\n",
    "     \n",
    "    for event in pygame.event.get(): # User did something\n",
    "        if event.type == pygame.QUIT: # If user clicked close\n",
    "            done=True # Flag that we are done so we exit this loop\n",
    " \n",
    "    # All drawing code happens after the for loop and but\n",
    "    # inside the main while done==False loop.\n",
    "     \n",
    "    # Clear the screen and set the screen background\n",
    "    screen.fill(WHITE)\n",
    " \n",
    "    # 绘制1条线段，宽度5像素,参数1绘制到窗口,参数2设置线段的颜色,参数3设置线段的起始位置,参数4是设置终点位置,参数5设置线段宽度\n",
    "#     pygame.draw.line(screen, GREEN, [50, 50], [500,400], 5)\n",
    " \n",
    "#     # 通过设置多个点绘制线段,参数1绘制到窗口,参数2设置线段的颜色,参数3设置线段是否是闭合线段,参数4设置多个点的列表,参数5设置线段宽度\n",
    "#     pygame.draw.lines(screen, BLACK, False, [[0, 80], [50, 90], [200, 400], [600, 330]], 5)\n",
    "    \n",
    "# #     # Draw on the screen a GREEN line from (0,0) to (50.75) \n",
    "# #     # 5 pixels wide.\n",
    "#     pygame.draw.aaline(screen, GREEN, [0, 50],[50, 80], True)\n",
    "\n",
    "# #     # Draw a rectangle outline\n",
    "#     pygame.draw.rect(screen, BLACK, [75, 10, 50, 20], 2)\n",
    "     \n",
    "# #     # Draw a solid rectangle\n",
    "#     pygame.draw.rect(screen, BLACK, [150, 10, 50, 20])\n",
    "     \n",
    "# #   绘制椭圆,参数1绘制到什么位置,参数2绘制的颜色,参数3绘制的位置和大小以列表或者元组的形式传入,参数4设置相对应的宽度\n",
    "#     pygame.draw.ellipse(screen, RED, [225, 10, 50, 20],2) \n",
    "\n",
    "# #     # Draw an solid ellipse, using a rectangle as the outside boundaries\n",
    "# #     pygame.draw.ellipse(screen, RED, [300, 10, 50, 20]) \n",
    " \n",
    "# #     绘制多边形,参数1绘制到什么位置,参数2绘制的颜色,多边形顶点列表,多边形宽度\n",
    "#     pygame.draw.polygon(screen, BLACK, [[300,200], [500, 400], [700,450]],5)\n",
    "  \n",
    "#     # Draw an arc as part of an ellipse. \n",
    "#     # Use radians to determine what angle to draw.\n",
    "\n",
    "    pygame.draw.rect(screen,(223,156,70),[100,100,400,400],1)\n",
    "    \n",
    "    #绘制圆弧,,参数1绘制到什么位置,参数2绘制的颜色,圆弧原本椭圆的大小[位置,宽高],圆弧角度的起始角度,圆弧终点角度(弧度制)\n",
    "    pygame.draw.arc(screen, BLACK, [100,100,400, 400], 0, pi*3/4, 2)\n",
    "#     pygame.draw.arc(screen, GREEN,[210, 75, 150, 125], pi/2, pi, 2)\n",
    "#     pygame.draw.arc(screen, BLUE, [210, 75, 150, 125], pi,3*pi/2, 2)\n",
    "#     pygame.draw.arc(screen, RED,  [210, 75, 150, 125], 3*pi/2, 2*pi, 2)\n",
    "    \n",
    "#     # Draw a circle\n",
    "#     pygame.draw.circle(screen, BLUE, [60, 250], 40)\n",
    "    \n",
    "#     # Go ahead and update the screen with what we've drawn.\n",
    "#     # This MUST happen after all the other drawing commands.\n",
    "#重新绘制所有图像\n",
    "#     pygame.display.flip()\n",
    "#更新更改的图像\n",
    "    pygame.display.update()\n",
    " \n",
    "# Be IDLE friendly\n",
    "pygame.quit()"
   ]
  },
  {
   "cell_type": "code",
   "execution_count": 50,
   "metadata": {},
   "outputs": [
    {
     "name": "stdout",
     "output_type": "stream",
     "text": [
      "pygame 1.9.4\n",
      "Hello from the pygame community. https://www.pygame.org/contribute.html\n"
     ]
    }
   ],
   "source": [
    "!python pygameDraw.py"
   ]
  },
  {
   "cell_type": "code",
   "execution_count": 16,
   "metadata": {},
   "outputs": [
    {
     "name": "stdout",
     "output_type": "stream",
     "text": [
      "Overwriting pygameDraw.py\n"
     ]
    }
   ],
   "source": [
    "%%writefile pygameDraw.py\n",
    "#要使用必先导入\n",
    "import pygame\n",
    "#导入pygame中的所有常量\n",
    "from pygame.locals import *\n",
    "import sys\n",
    "\n",
    "\n",
    "#初始化PyGame\n",
    "pygame.init()\n",
    "\n",
    "#创建一个600*500的窗口\n",
    "screen = pygame.display.set_mode((800,500))\n",
    "x = 400\n",
    "y = 250\n",
    "xv = 4\n",
    "yv = 3\n",
    "\n",
    "clock = pygame.time.Clock()\n",
    "\n",
    "while True:\n",
    "    for event in pygame.event.get():\n",
    "        if event.type in (QUIT,KEYDOWN):\n",
    "            sys.exit()\n",
    "    #设置窗口的颜色\n",
    "    \n",
    "    #设置绘制图像的帧率\n",
    "    clock.tick(30)\n",
    "    screen.fill((0,0,0))\n",
    "    x = x + xv\n",
    "    y = y + yv\n",
    "    if x > 700 or x < 100:\n",
    "        xv = -xv\n",
    "        \n",
    "    if y > 400 or y < 100:\n",
    "        yv = -yv\n",
    "        \n",
    "    #之所以会动,是因为每一帧绘制的位置不一样.\n",
    "    pygame.draw.circle(screen,(123,245,199),(x,y),100)\n",
    "    pygame.display.update()"
   ]
  },
  {
   "cell_type": "code",
   "execution_count": 17,
   "metadata": {},
   "outputs": [
    {
     "name": "stdout",
     "output_type": "stream",
     "text": [
      "pygame 1.9.4\n",
      "Hello from the pygame community. https://www.pygame.org/contribute.html\n"
     ]
    }
   ],
   "source": [
    "!python pygameDraw.py"
   ]
  },
  {
   "cell_type": "code",
   "execution_count": null,
   "metadata": {},
   "outputs": [],
   "source": []
  }
 ],
 "metadata": {
  "kernelspec": {
   "display_name": "Python 3",
   "language": "python",
   "name": "python3"
  },
  "language_info": {
   "codemirror_mode": {
    "name": "ipython",
    "version": 3
   },
   "file_extension": ".py",
   "mimetype": "text/x-python",
   "name": "python",
   "nbconvert_exporter": "python",
   "pygments_lexer": "ipython3",
   "version": "3.6.5"
  }
 },
 "nbformat": 4,
 "nbformat_minor": 2
}
