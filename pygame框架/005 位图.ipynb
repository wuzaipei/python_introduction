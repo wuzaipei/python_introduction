{
 "cells": [
  {
   "cell_type": "markdown",
   "metadata": {},
   "source": [
    "## 图形\n",
    "\n",
    "* pygame.image.load\t—\t在磁盘里加载文件图片\n",
    "* pygame.image.save\t—\t将图片保存到磁盘"
   ]
  },
  {
   "cell_type": "code",
   "execution_count": 36,
   "metadata": {},
   "outputs": [],
   "source": [
    "import pygame\n",
    "pygame.init()\n",
    "haimian = pygame.image.load('./haimian.jpeg')\n",
    "haimian\n",
    "font1 = pygame.font.Font(None,60)\n",
    "fontImage = font1.render('hello',True,(100,220,45))\n",
    "fontImage\n",
    "\n",
    "\n",
    "pygame.image.save(fontImage,'./fontImage.png')\n",
    "# pygame.image.save(haimian,'./haimian2.jpg')"
   ]
  },
  {
   "cell_type": "markdown",
   "metadata": {},
   "source": [
    "## 转换\n",
    "** 调用转换函数，返回1个新的图像对象，之前的图像对象不改变。 **\n",
    "* pygame.transform.flip\t-\t垂直和水平翻转\n",
    "* pygame.transform.scale\t-\t调整大小到新的分辨率\n",
    "* pygame.transform.rotate\t-\t旋转图像\n",
    "* pygame.transform.rotozoom\t-\t过滤的比例和旋转\n",
    "* pygame.transform.scale2x\t-\t专业图像倍增器\n",
    "* pygame.transform.smoothscale\t-\t将表面平滑地缩放到任意大小\n",
    "* subsurface - 子图"
   ]
  },
  {
   "cell_type": "code",
   "execution_count": 69,
   "metadata": {},
   "outputs": [
    {
     "name": "stdout",
     "output_type": "stream",
     "text": [
      "Overwriting image.py\n"
     ]
    }
   ],
   "source": [
    "%%writefile image.py\n",
    "import pygame\n",
    "from pygame.locals import *\n",
    "import sys\n",
    "\n",
    "\n",
    "#初始化PyGame\n",
    "pygame.init()\n",
    "#创建一个600*500的窗口\n",
    "screen = pygame.display.set_mode((800,600))\n",
    "#加载海绵宝宝图片\n",
    "haimian = pygame.image.load('./haimian.jpeg')\n",
    "\n",
    "while True:\n",
    "    for event in pygame.event.get():\n",
    "        if event.type == QUIT:\n",
    "            sys.exit()\n",
    "    #flip第一个参数是图像对象，第二个参数设置是否水平翻转，第三个参数是否垂直翻转\n",
    "#     a = pygame.transform.flip(haimian,False,False)\n",
    "    #scale将图片缩放至设置的分辨率，第一个参数是图像对象，第二个参数是设置缩放的分辨率[宽度，高度]\n",
    "#     a = pygame.transform.scale(haimian,[300,100])\n",
    "    #rotate旋转图像对象，第一个参数是图像对象，第二个参数是角度（顺时针参数为负数，逆时针参数为正数）\n",
    "#     a = pygame.transform.rotate(haimian,-90)\n",
    "    #旋转+缩放二合一功能函数，参数1是图像对象，参数2是角度，参数3是缩放的比例\n",
    "#     a = pygame.transform.rotozoom(haimian,180,0.5)\n",
    "    #放大2倍的算法\n",
    "#     a = pygame.transform.scale2x(haimian)\n",
    "    #缩放，算法的性能能佳，第一个参数是图像对象，第二个参数是设置缩放的分辨率[宽度，高度]\n",
    "    a = pygame.transform.smoothscale(haimian,(400,200))\n",
    "    \n",
    "    #截出图像的子图。\n",
    "    child = a.subsurface([0,0,200,100])\n",
    "\n",
    "#     a = haimian\n",
    "    #将窗口填充成白色\n",
    "    screen.fill([255,255,255])\n",
    "    screen.blit(child,[150,150])\n",
    "    screen.blit(a,[150,300])\n",
    "    pygame.display.update()"
   ]
  },
  {
   "cell_type": "code",
   "execution_count": 70,
   "metadata": {},
   "outputs": [
    {
     "name": "stdout",
     "output_type": "stream",
     "text": [
      "pygame 1.9.4\n",
      "Hello from the pygame community. https://www.pygame.org/contribute.html\n"
     ]
    }
   ],
   "source": [
    "!python image.py"
   ]
  },
  {
   "cell_type": "code",
   "execution_count": null,
   "metadata": {},
   "outputs": [],
   "source": [
    "from pygame.locals import *\n",
    "import sys\n",
    "\n",
    "\n",
    "#screen = pygame.display.set_mode()\n",
    "#space = pygame.image.load(\"图片地址\").convert_alpha() #适合JPG/PNG/GIF/BMP/PCX/TIF\n",
    "#screen.blit(space,(0,0))\n",
    "\n",
    "\n",
    "#初始化PyGame\n",
    "pygame.init()\n",
    "#创建一个600*500的窗口\n",
    "screen = pygame.display.set_mode((600,500))\n",
    "\n",
    "#打印文字到窗口\n",
    "myfont = pygame.font.Font(None,60)\n",
    "#RGB,R红色，G绿色，B蓝色\n",
    "white = (255,255,255)\n",
    "blue = (0,0,255)\n",
    "textImage = myfont.render('Hello PyGame',True,white)\n",
    "\n",
    "while True:\n",
    "    for event in pygame.event.get():\n",
    "        if event.type == QUIT:\n",
    "            sys.exit()\n",
    "\n",
    "\n",
    "    logo = pygame.image.load('./images/home.png')\n",
    "    # 清理屏幕，绘制，然后刷新\n",
    "    #screen.fill(blue)\n",
    "    logo = pygame.transform.smoothscale(logo,(200,200))\n",
    "    screen.blit(logo,(0,0))\n",
    "    pygame.display.update()"
   ]
  }
 ],
 "metadata": {
  "kernelspec": {
   "display_name": "Python 3",
   "language": "python",
   "name": "python3"
  },
  "language_info": {
   "codemirror_mode": {
    "name": "ipython",
    "version": 3
   },
   "file_extension": ".py",
   "mimetype": "text/x-python",
   "name": "python",
   "nbconvert_exporter": "python",
   "pygments_lexer": "ipython3",
   "version": "3.6.5"
  }
 },
 "nbformat": 4,
 "nbformat_minor": 2
}
