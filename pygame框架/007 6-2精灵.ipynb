{
 "cells": [
  {
   "cell_type": "markdown",
   "metadata": {},
   "source": [
    "## 精灵\n",
    "* 要定义精灵类，就需要继承pygame.sprite.Sprite\n",
    "* 不要忘了写`pygame.sprite.Sprite.__init__(self)`\n",
    "* **精灵对象，必须要有2个属性，image属性（用来显示什么图像）和rect属性（用来决定精灵大小和位置）**\n",
    "* 之所以精灵会有动画，是根据不断调用update方法，来更改image图像和rect位置。"
   ]
  },
  {
   "cell_type": "code",
   "execution_count": 1,
   "metadata": {},
   "outputs": [
    {
     "name": "stdout",
     "output_type": "stream",
     "text": [
      "Overwriting spriteMr.py\n"
     ]
    }
   ],
   "source": [
    "%%writefile spriteMr.py\n",
    "import pygame\n",
    "from pygame.locals import *\n",
    "import sys\n",
    "\n",
    "\n",
    "#初始化PyGame\n",
    "pygame.init()\n",
    "#创建一个600*500的窗口\n",
    "screen = pygame.display.set_mode((800,600))\n",
    "\n",
    "\n",
    "class MingRen(pygame.sprite.Sprite):\n",
    "    def __init__(self):\n",
    "        pygame.sprite.Sprite.__init__(self)\n",
    "        self.mainImg = pygame.image.load('./mingren.png')\n",
    "        self.image = self.mainImg.subsurface([0,0,480,192])\n",
    "        self.rect = [100,100,480,192]\n",
    "        self.currentFrame = 0\n",
    "        self.maxFrame = 31\n",
    "        self.posX = 100\n",
    "        self.posY = 100\n",
    "        self.vX = 10\n",
    "        \n",
    "    def update(self):\n",
    "        self.image = self.mainImg.subsurface([0,0,480,192])\n",
    "        \n",
    "        \n",
    "        x = self.currentFrame%2\n",
    "        y = self.currentFrame//2\n",
    "\n",
    "        if self.currentFrame>=31:\n",
    "            self.currentFrame = 0\n",
    "\n",
    "        self.image = self.mainImg.subsurface([x*480,y*192,480,192])\n",
    "        self.currentFrame = self.currentFrame + 1\n",
    "        \n",
    "        if self.posX>600 or self.posX<100:\n",
    "            self.vX = -self.vX\n",
    "        \n",
    "        \n",
    "        \n",
    "        self.posX = self.posX + self.vX\n",
    "        self.rect = [self.posX,self.posY,480,192]\n",
    "\n",
    "\n",
    "mr = MingRen()\n",
    "group = pygame.sprite.Group()\n",
    "group.add(mr)\n",
    "\n",
    "clock = pygame.time.Clock()\n",
    "\n",
    "while True:\n",
    "    for event in pygame.event.get():\n",
    "        if event.type == QUIT:\n",
    "            sys.exit()\n",
    "    \n",
    "    clock.tick(15)\n",
    "    screen.fill([255,255,255])\n",
    "    \n",
    "    group.update()\n",
    "    group.draw(screen)\n",
    "    pygame.display.update()"
   ]
  },
  {
   "cell_type": "code",
   "execution_count": null,
   "metadata": {},
   "outputs": [],
   "source": []
  },
  {
   "cell_type": "code",
   "execution_count": null,
   "metadata": {},
   "outputs": [],
   "source": [
    "!python spriteMr.py"
   ]
  },
  {
   "cell_type": "code",
   "execution_count": null,
   "metadata": {},
   "outputs": [],
   "source": [
    "from pygame.locals import *\n",
    "import sys\n",
    "\n",
    "\n",
    "\n",
    "#初始化PyGame\n",
    "pygame.init()\n",
    "#创建一个600*500的窗口\n",
    "screen = pygame.display.set_mode((600,500))\n",
    "\n",
    "\n",
    "while True:\n",
    "    for event in pygame.event.get():\n",
    "        if event.type == QUIT:\n",
    "            sys.exit()\n",
    "\n",
    "\n",
    "    logo = pygame.image.load('./images/home.png')\n",
    "    # 清理屏幕，绘制，然后刷新\n",
    "    #screen.fill(blue)\n",
    "    logo = pygame.transform.smoothscale(logo,(200,200))\n",
    "    screen.blit(logo,(0,0))\n",
    "    pygame.display.update()"
   ]
  },
  {
   "cell_type": "code",
   "execution_count": 12,
   "metadata": {},
   "outputs": [
    {
     "name": "stdout",
     "output_type": "stream",
     "text": [
      "Overwriting spriteTest.py\n"
     ]
    }
   ],
   "source": [
    "%%writefile spriteTest.py\n",
    "import pygame\n",
    "from pygame.locals import *\n",
    "\n",
    "\n",
    "class MySprite(pygame.sprite.Sprite):\n",
    "    def __init__(self, target):\n",
    "        pygame.sprite.Sprite.__init__(self)\n",
    "        self.target_surface = target\n",
    "        self.image = None\n",
    "        self.master_image = None\n",
    "        self.rect = None\n",
    "        self.topleft = 0, 0\n",
    "        self.frame = 0\n",
    "        self.old_frame = -1\n",
    "        self.frame_width = 1\n",
    "        self.frame_height = 1\n",
    "        self.first_frame = 0\n",
    "        self.last_frame = 0\n",
    "        self.columns = 1\n",
    "        self.last_time = 0\n",
    "\n",
    "    def load(self, filename, width, height, columns):\n",
    "        self.master_image = pygame.image.load(filename).convert_alpha()\n",
    "        self.frame_width = width\n",
    "        self.frame_height = height\n",
    "        self.rect = 0, 0, width, height\n",
    "        self.columns = columns\n",
    "        rect = self.master_image.get_rect()\n",
    "        self.last_frame = (rect.width // width) * (rect.height // height) - 1\n",
    "\n",
    "    def update(self, current_time, rate=60):\n",
    "        if current_time > self.last_time + rate:\n",
    "            self.frame += 1\n",
    "            if self.frame > self.last_frame:\n",
    "                self.frame = self.first_frame\n",
    "            self.last_time = current_time\n",
    "\n",
    "        if self.frame != self.old_frame:\n",
    "            frame_x = (self.frame % self.columns) * self.frame_width\n",
    "            frame_y = (self.frame // self.columns) * self.frame_height\n",
    "            rect = (frame_x, frame_y, self.frame_width, self.frame_height)\n",
    "            self.image = self.master_image.subsurface(rect)\n",
    "            self.old_frame = self.frame\n",
    "            \n",
    "\n",
    "class Mingren(pygame.sprite.Sprite):\n",
    "    def __init__(self,screen):\n",
    "        pygame.sprite.Sprite.__init__(self)\n",
    "        self.mainImg = pygame.image.load('./mingren.png')\n",
    "        self.image = self.mainImg.subsurface([0,0,480,192])\n",
    "        self.rect = (0,0,100,100)\n",
    "        self.frame = 0\n",
    "        self.lastframe = 32\n",
    "        \n",
    "    def update(self,current_time):\n",
    "        if self.frame<31:\n",
    "            self.frame = self.frame + 1\n",
    "        else:\n",
    "            self.frame = 1\n",
    "        x = self.frame%2\n",
    "        y = self.frame//2\n",
    "        self.image = self.mainImg.subsurface([x*480,y*192,480,192])\n",
    "        screen.blit(self.image,(200,200))\n",
    "        \n",
    "pygame.init()\n",
    "screen = pygame.display.set_mode((800, 600), 0, 32)\n",
    "haimian = Mingren(screen)\n",
    "\n",
    "\n",
    "\n",
    "\n",
    "pygame.display.set_caption(\"精灵类测试\")\n",
    "font = pygame.font.Font(None, 18)\n",
    "framerate = pygame.time.Clock()\n",
    "\n",
    "cat = MySprite(screen)\n",
    "cat.load(\"./test.png\", 100, 100, 4)\n",
    "group = pygame.sprite.Group()\n",
    "group.add(cat)\n",
    "group.add(haimian)\n",
    "\n",
    "\n",
    "\n",
    "while True:\n",
    "    framerate.tick(30)\n",
    "    ticks = pygame.time.get_ticks()\n",
    "\n",
    "    for event in pygame.event.get():\n",
    "        if event.type == pygame.QUIT:\n",
    "            pygame.quit()\n",
    "            exit()\n",
    "    key = pygame.key.get_pressed()\n",
    "    if key[pygame.K_ESCAPE]:\n",
    "        exit()\n",
    "\n",
    "    screen.fill((0, 0, 100))\n",
    "\n",
    "    group.update(ticks)\n",
    "    group.draw(screen)\n",
    "    pygame.display.update()"
   ]
  },
  {
   "cell_type": "code",
   "execution_count": 13,
   "metadata": {},
   "outputs": [
    {
     "name": "stdout",
     "output_type": "stream",
     "text": [
      "pygame 1.9.4\n",
      "Hello from the pygame community. https://www.pygame.org/contribute.html\n"
     ]
    },
    {
     "name": "stderr",
     "output_type": "stream",
     "text": [
      "libpng warning: iCCP: known incorrect sRGB profile\n"
     ]
    }
   ],
   "source": [
    "!python spriteTest.py"
   ]
  },
  {
   "cell_type": "code",
   "execution_count": 1,
   "metadata": {},
   "outputs": [
    {
     "data": {
      "text/plain": [
       "'B'"
      ]
     },
     "execution_count": 1,
     "metadata": {},
     "output_type": "execute_result"
    }
   ],
   "source": [
    "chr(66)"
   ]
  },
  {
   "cell_type": "code",
   "execution_count": null,
   "metadata": {},
   "outputs": [],
   "source": []
  }
 ],
 "metadata": {
  "kernelspec": {
   "display_name": "Python 3",
   "language": "python",
   "name": "python3"
  },
  "language_info": {
   "codemirror_mode": {
    "name": "ipython",
    "version": 3
   },
   "file_extension": ".py",
   "mimetype": "text/x-python",
   "name": "python",
   "nbconvert_exporter": "python",
   "pygments_lexer": "ipython3",
   "version": "3.6.5"
  }
 },
 "nbformat": 4,
 "nbformat_minor": 2
}
