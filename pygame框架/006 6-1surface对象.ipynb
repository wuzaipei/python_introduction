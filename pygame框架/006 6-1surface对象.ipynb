{
 "cells": [
  {
   "cell_type": "markdown",
   "metadata": {},
   "source": [
    "## surface对象方法\n",
    "* pygame.Surface.blit\t-\t将一个图像绘制到另一个\n",
    "* pygame.Surface.blits\t-\t将许多图像绘制到另一个\n",
    "* pygame.Surface.copy\t-\t创建Surface的新副本\n",
    "* pygame.Surface.fill\t-\t用纯色填充Surface\n",
    "* pygame.Surface.subsurface\t-\t创建一个引用其父级的新表面\n",
    "* pygame.Surface.get_parent\t-\t找到地下的父母\n",
    "* pygame.Surface.get_offset\t-\t在父母中找到子地下的位置\n",
    "* pygame.Surface.get_size\t-\t获取Surface的尺寸\n",
    "* pygame.Surface.get_width\t-\t获取Surface的宽度\n",
    "* pygame.Surface.get_height\t-\t获得Surface的高度\n",
    "* pygame.Surface.get_rect\t-\t得到Surface的矩形区域\n",
    "* pygame.Surface.get_bitsize\t-\t获取Surface像素格式的位深度\n"
   ]
  },
  {
   "cell_type": "code",
   "execution_count": 63,
   "metadata": {},
   "outputs": [
    {
     "name": "stdout",
     "output_type": "stream",
     "text": [
      "Overwriting image.py\n"
     ]
    }
   ],
   "source": [
    "%%writefile image.py\n",
    "import pygame\n",
    "from pygame.locals import *\n",
    "import sys\n",
    "\n",
    "\n",
    "#初始化PyGame\n",
    "pygame.init()\n",
    "#创建一个600*500的窗口\n",
    "screen = pygame.display.set_mode((800,600))\n",
    "\n",
    "#文字\n",
    "font1 = pygame.font.Font('./meng.ttf',40)\n",
    "fontImg = font1.render('HelloWorld',True,(65,117,231))\n",
    "fontImg2 = fontImg.copy()\n",
    "\n",
    "#图片\n",
    "haimian = pygame.image.load('./haimian.jpeg')\n",
    "\n",
    "\n",
    "\n",
    "while True:\n",
    "    for event in pygame.event.get():\n",
    "        if event.type == QUIT:\n",
    "            sys.exit()\n",
    "            \n",
    "    screen.fill([255,255,255])\n",
    "    \n",
    "    screen.blits([[fontImg,[200,100]],[haimian,[200,200]],[fontImg2,[200,400]]])\n",
    "    pygame.display.update()\n",
    "    \n",
    "            \n",
    "    \n",
    "\n"
   ]
  },
  {
   "cell_type": "code",
   "execution_count": 90,
   "metadata": {},
   "outputs": [
    {
     "name": "stdout",
     "output_type": "stream",
     "text": [
      "Overwriting mingren.py\n"
     ]
    }
   ],
   "source": [
    "%%writefile mingren.py\n",
    "import pygame\n",
    "from pygame.locals import *\n",
    "import sys\n",
    "\n",
    "\n",
    "#初始化PyGame\n",
    "pygame.init()\n",
    "#创建一个600*500的窗口\n",
    "screen = pygame.display.set_mode((800,600))\n",
    "\n",
    "#火影\n",
    "mingren = pygame.image.load('./mingren.png')\n",
    "\n",
    "child = mingren.subsurface([0,0,480,192])\n",
    "\n",
    "clock = pygame.time.Clock()\n",
    "\n",
    "startTime = pygame.time.get_ticks()\n",
    "\n",
    "#4/2 ---2---0\n",
    "# y = 2* 192\n",
    "# x = 0* 480\n",
    "\n",
    "#5/2 ---2---1\n",
    "#y = 2* 192\n",
    "#x = 1* 480\n",
    "\n",
    "currentFrame = 0\n",
    "maxFrame = 31\n",
    "\n",
    "while True:\n",
    "    for event in pygame.event.get():\n",
    "        if event.type == QUIT:\n",
    "            sys.exit()\n",
    "    \n",
    "    currentTime = pygame.time.get_ticks()\n",
    "    \n",
    "    if (currentTime-startTime)> 100:\n",
    "        startTime = currentTime\n",
    "#         clock.tick(15)\n",
    "        screen.fill([255,255,255])\n",
    "\n",
    "        x = currentFrame%2\n",
    "        y = currentFrame//2\n",
    "\n",
    "        if currentFrame>=31:\n",
    "            currentFrame = 0\n",
    "\n",
    "        child = mingren.subsurface([x*480,y*192,480,192])\n",
    "        currentFrame = currentFrame + 1\n",
    "\n",
    "        screen.blit(child,[300,200])\n",
    "        pygame.display.update()"
   ]
  },
  {
   "cell_type": "code",
   "execution_count": 5,
   "metadata": {},
   "outputs": [
    {
     "data": {
      "text/plain": [
       "(480, 1920)"
      ]
     },
     "execution_count": 5,
     "metadata": {},
     "output_type": "execute_result"
    }
   ],
   "source": [
    "import pygame\n",
    "from pygame.locals import *\n",
    "import sys\n",
    "\n",
    "\n",
    "#初始化PyGame\n",
    "pygame.init()\n",
    "#创建一个600*500的窗口\n",
    "# screen = pygame.display.set_mode((800,600))\n",
    "\n",
    "#火影\n",
    "mingren = pygame.image.load('./mingren.png')\n",
    "\n",
    "child = mingren.subsurface([480,1920,480,192])\n",
    "\n",
    "#获取父亲图像\n",
    "# child.get_parent()\n",
    "child.get_offset()"
   ]
  },
  {
   "cell_type": "code",
   "execution_count": 91,
   "metadata": {},
   "outputs": [
    {
     "name": "stdout",
     "output_type": "stream",
     "text": [
      "pygame 1.9.4\n",
      "Hello from the pygame community. https://www.pygame.org/contribute.html\n"
     ]
    }
   ],
   "source": [
    "!python mingren.py"
   ]
  },
  {
   "cell_type": "code",
   "execution_count": 64,
   "metadata": {},
   "outputs": [
    {
     "name": "stdout",
     "output_type": "stream",
     "text": [
      "pygame 1.9.4\n",
      "Hello from the pygame community. https://www.pygame.org/contribute.html\n"
     ]
    }
   ],
   "source": [
    "!python image.py"
   ]
  },
  {
   "cell_type": "code",
   "execution_count": 44,
   "metadata": {},
   "outputs": [
    {
     "name": "stdout",
     "output_type": "stream",
     "text": [
      "Overwriting image.py\n"
     ]
    }
   ],
   "source": [
    "%%writefile image.py\n",
    "import pygame\n",
    "from pygame.locals import *\n",
    "import sys\n",
    "\n",
    "\n",
    "#初始化PyGame\n",
    "pygame.init()\n",
    "#创建一个600*500的窗口\n",
    "screen = pygame.display.set_mode((800,600))\n",
    "#加载海绵宝宝图片\n",
    "haimian = pygame.image.load('./haimian.jpeg')\n",
    "mainImg = pygame.image.load('./mingren.png')\n",
    "\n",
    "while True:\n",
    "    for event in pygame.event.get():\n",
    "        if event.type == QUIT:\n",
    "            sys.exit()\n",
    "    \n",
    "#     haimian.fill([20,60,122])\n",
    "    #将窗口填充成白色\n",
    "    \n",
    "    mingren = mainImg.subsurface([0,0,480,192])\n",
    "    \n",
    "    screen.fill([255,255,255])\n",
    "#     screen.blit(haimian,[0,0])\n",
    "#     screen.blit(mingren,[150,100])\n",
    "    screen.blits([[haimian,[0,0]],[mingren,[150,100]]])\n",
    "    pygame.display.update()"
   ]
  },
  {
   "cell_type": "code",
   "execution_count": 45,
   "metadata": {},
   "outputs": [
    {
     "name": "stdout",
     "output_type": "stream",
     "text": [
      "pygame 1.9.4\n",
      "Hello from the pygame community. https://www.pygame.org/contribute.html\n"
     ]
    }
   ],
   "source": [
    "!python image.py"
   ]
  },
  {
   "cell_type": "code",
   "execution_count": 47,
   "metadata": {},
   "outputs": [
    {
     "data": {
      "text/plain": [
       "0"
      ]
     },
     "execution_count": 47,
     "metadata": {},
     "output_type": "execute_result"
    }
   ],
   "source": [
    "import pygame\n",
    "haimian = pygame.image.load('./mingren.png')\n",
    "mingren = haimian.subsurface([0,0,480,192])\n",
    "mingren.get_abs_offset()\n",
    "mingren.set_alpha(0)\n",
    "mingren.get_alpha()"
   ]
  },
  {
   "cell_type": "code",
   "execution_count": 27,
   "metadata": {},
   "outputs": [
    {
     "data": {
      "text/plain": [
       "192.0"
      ]
     },
     "execution_count": 27,
     "metadata": {},
     "output_type": "execute_result"
    }
   ],
   "source": [
    "3072/16"
   ]
  },
  {
   "cell_type": "code",
   "execution_count": null,
   "metadata": {},
   "outputs": [],
   "source": []
  }
 ],
 "metadata": {
  "kernelspec": {
   "display_name": "Python 3",
   "language": "python",
   "name": "python3"
  },
  "language_info": {
   "codemirror_mode": {
    "name": "ipython",
    "version": 3
   },
   "file_extension": ".py",
   "mimetype": "text/x-python",
   "name": "python",
   "nbconvert_exporter": "python",
   "pygments_lexer": "ipython3",
   "version": "3.6.5"
  }
 },
 "nbformat": 4,
 "nbformat_minor": 2
}
