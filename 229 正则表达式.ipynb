{
 "cells": [
  {
   "cell_type": "code",
   "execution_count": 93,
   "metadata": {},
   "outputs": [],
   "source": [
    "import re"
   ]
  },
  {
   "cell_type": "code",
   "execution_count": 102,
   "metadata": {},
   "outputs": [
    {
     "name": "stdout",
     "output_type": "stream",
     "text": [
      "<callable_iterator object at 0x00000219260B4198>\n",
      "13 18 (13, 18)\n",
      "(3+2)\n",
      "24 29 (24, 29)\n",
      "(3-8)\n"
     ]
    }
   ],
   "source": [
    "x_str = '2+2-5*0+7+[9+(3+2)+(9+2+(3-8))*2]'\n",
    "rs = '\\([^()]+\\)'\n",
    "a = re.finditer(rs,x_str)\n",
    "print(a.__iter__())\n",
    "for i in a:\n",
    "#     print(x_str[i.span()[0]:i.span()[1]])\n",
    "    print(i.start(),i.end(),i.span())\n",
    "    print(i.group())"
   ]
  },
  {
   "cell_type": "code",
   "execution_count": 95,
   "metadata": {},
   "outputs": [
    {
     "name": "stdout",
     "output_type": "stream",
     "text": [
      "['+', '-', '*', '-']\n",
      "['3', '2', '5', '1', '10']\n"
     ]
    }
   ],
   "source": [
    "# 第一种 没有任何括号\n",
    "x_formula='3+2-5*1-10'\n",
    "c = re.findall('\\d+',x_formula)\n",
    "d = re.finditer('\\D',x_formula)\n",
    "s = [i.group() for i in d]\n",
    "print(s) # ['+', '-', '*', '-']\n",
    "\n",
    "print(c) # ['3', '2', '5', '1', '1', '0']\n"
   ]
  },
  {
   "cell_type": "code",
   "execution_count": 96,
   "metadata": {},
   "outputs": [
    {
     "name": "stdout",
     "output_type": "stream",
     "text": [
      "5\n",
      "['+', '-', '-'] ['3', '2', '5', '10']\n",
      "['-'] ['5', '-5']\n"
     ]
    }
   ],
   "source": [
    "def cc(s,c):\n",
    "    for i,item in enumerate(s):\n",
    "        if item == '*' or item == '/':\n",
    "            if item == '*':\n",
    "                st = int(c[i])*int(c[i+1])\n",
    "                print(st)\n",
    "                c[i] = str(st)\n",
    "                del s[i]\n",
    "                del c[i+1]\n",
    "            elif item=='/':\n",
    "                st = int(c[i])/int(c[i+1])\n",
    "                c[i] = str(st)\n",
    "                del s[i]\n",
    "                del c[i+1]\n",
    "    if len(s)==0:\n",
    "        print(c)\n",
    "print(s,c)\n",
    "for i,item in enumerate(s):\n",
    "    if item =='+' or item=='-':\n",
    "        if item=='+':\n",
    "            st = int(c[i])+int(c[i+1])\n",
    "            c[i] = str(st)\n",
    "            del s[i]\n",
    "            del c[i+1]\n",
    "        else:\n",
    "            st = int(c[i])-int(c[i+1])\n",
    "            c[i] = str(st)\n",
    "            del s[i]\n",
    "            del c[i+1]\n",
    "    else:\n",
    "        print(c[0])\n",
    "print(s,c)"
   ]
  },
  {
   "cell_type": "code",
   "execution_count": 97,
   "metadata": {},
   "outputs": [
    {
     "name": "stdout",
     "output_type": "stream",
     "text": [
      "[] ['10']\n"
     ]
    }
   ],
   "source": [
    "for i,item in enumerate(s):\n",
    "    if item =='+' or item=='-':\n",
    "        if item=='+':\n",
    "            st = int(c[i])+int(c[i+1])\n",
    "            c[i] = str(st)\n",
    "            del s[i]\n",
    "            del c[i+1]\n",
    "        else:\n",
    "            st = int(c[i])-int(c[i+1])\n",
    "            c[i] = str(st)\n",
    "            del s[i]\n",
    "            del c[i+1]\n",
    "    else:\n",
    "        print(c[0])\n",
    "print(s,c)"
   ]
  },
  {
   "cell_type": "code",
   "execution_count": 98,
   "metadata": {},
   "outputs": [
    {
     "name": "stdout",
     "output_type": "stream",
     "text": [
      "[] ['10']\n"
     ]
    }
   ],
   "source": [
    "for i,item in enumerate(s):\n",
    "    if item =='+' or item=='-':\n",
    "        if item=='+':\n",
    "            st = int(c[i])+int(c[i+1])\n",
    "            c[i] = str(st)\n",
    "            del s[i]\n",
    "            del c[i+1]\n",
    "        else:\n",
    "            st = int(c[i])-int(c[i+1])\n",
    "            c[i] = str(st)\n",
    "            del s[i]\n",
    "            del c[i+1]\n",
    "    else:\n",
    "        print(c[0])\n",
    "print(s,c)"
   ]
  },
  {
   "cell_type": "code",
   "execution_count": 99,
   "metadata": {},
   "outputs": [
    {
     "name": "stdout",
     "output_type": "stream",
     "text": [
      "10\n"
     ]
    }
   ],
   "source": [
    "print(c[0])"
   ]
  },
  {
   "cell_type": "code",
   "execution_count": null,
   "metadata": {},
   "outputs": [],
   "source": []
  }
 ],
 "metadata": {
  "kernelspec": {
   "display_name": "Python 3",
   "language": "python",
   "name": "python3"
  },
  "language_info": {
   "codemirror_mode": {
    "name": "ipython",
    "version": 3
   },
   "file_extension": ".py",
   "mimetype": "text/x-python",
   "name": "python",
   "nbconvert_exporter": "python",
   "pygments_lexer": "ipython3",
   "version": "3.6.5"
  }
 },
 "nbformat": 4,
 "nbformat_minor": 2
}
