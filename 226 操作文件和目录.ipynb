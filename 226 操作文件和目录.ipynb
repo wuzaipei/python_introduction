{
 "cells": [
  {
   "cell_type": "markdown",
   "metadata": {},
   "source": [
    "### 操作文件和目录\n",
    "如果我们要操作文件、目录，可以在命令行下面输入操作系统提供的各种命令来完成。比如dir、cp等命令。\n",
    "\n",
    "如果要在Python程序中执行这些目录和文件的操作怎么办？其实操作系统提供的命令只是简单地调用了操作系统提供的接口函数，Python内置的os模块也可以直接调用操作系统提供的接口函数。\n",
    "\n",
    "打开Python交互式命令行，我们来看看如何使用os模块的基本功能："
   ]
  },
  {
   "cell_type": "code",
   "execution_count": 2,
   "metadata": {},
   "outputs": [
    {
     "data": {
      "text/plain": [
       "'nt'"
      ]
     },
     "execution_count": 2,
     "metadata": {},
     "output_type": "execute_result"
    }
   ],
   "source": [
    "import os\n",
    "# os.name # 操作系统类型\n",
    "# os.name\n",
    "dir(os)\n",
    "os.name"
   ]
  },
  {
   "cell_type": "markdown",
   "metadata": {},
   "source": [
    "如果是posix，说明系统是Linux、Unix或Mac OS X，如果是nt，就是Windows系统。\n"
   ]
  },
  {
   "cell_type": "code",
   "execution_count": 1,
   "metadata": {},
   "outputs": [],
   "source": [
    "# help(os)"
   ]
  },
  {
   "cell_type": "markdown",
   "metadata": {},
   "source": [
    "### 环境变量\n",
    "在操作系统中定义的环境变量，全部保存在os.environ这个变量中，可以直接查看："
   ]
  },
  {
   "cell_type": "code",
   "execution_count": 5,
   "metadata": {},
   "outputs": [
    {
     "data": {
      "text/plain": [
       "['C:\\\\ProgramData\\\\Anaconda3',\n",
       " 'C:\\\\ProgramData\\\\Anaconda3\\\\Library\\\\mingw-w64\\\\bin',\n",
       " 'C:\\\\ProgramData\\\\Anaconda3\\\\Library\\\\usr\\\\bin',\n",
       " 'C:\\\\ProgramData\\\\Anaconda3\\\\Library\\\\bin',\n",
       " 'C:\\\\ProgramData\\\\Anaconda3\\\\Scripts',\n",
       " 'C:\\\\Program Files (x86)\\\\Common Files\\\\Oracle\\\\Java\\\\javapath',\n",
       " 'C:\\\\Program Files (x86)\\\\Intel\\\\iCLS Client\\\\',\n",
       " 'C:\\\\Program Files\\\\Intel\\\\iCLS Client\\\\',\n",
       " 'C:\\\\Windows\\\\system32',\n",
       " 'C:\\\\Windows',\n",
       " 'C:\\\\Windows\\\\System32\\\\Wbem',\n",
       " 'C:\\\\Windows\\\\System32\\\\WindowsPowerShell\\\\v1.0\\\\',\n",
       " 'C:\\\\Program Files (x86)\\\\NVIDIA Corporation\\\\PhysX\\\\Common',\n",
       " 'C:\\\\Program Files (x86)\\\\Intel\\\\Intel(R) Management Engine Components\\\\DAL',\n",
       " 'C:\\\\Program Files\\\\Intel\\\\Intel(R) Management Engine Components\\\\DAL',\n",
       " 'C:\\\\Program Files (x86)\\\\Intel\\\\Intel(R) Management Engine Components\\\\IPT',\n",
       " 'C:\\\\Program Files\\\\Intel\\\\Intel(R) Management Engine Components\\\\IPT',\n",
       " 'C:\\\\Program Files (x86)\\\\Calibre2\\\\',\n",
       " 'D:\\\\android\\\\tools',\n",
       " 'D:\\\\android\\\\platform-tools',\n",
       " 'C:\\\\Program Files\\\\Git\\\\cmd',\n",
       " 'D:\\\\Program Files\\\\VisualSVN Server\\\\bin',\n",
       " 'F:\\\\Program Files\\\\TortoiseSVN\\\\bin',\n",
       " 'C:\\\\Program Files\\\\nodejs\\\\',\n",
       " 'f:\\\\Program Files\\\\Microsoft VS Code\\\\bin',\n",
       " 'C:\\\\Program Files\\\\Intel\\\\WiFi\\\\bin\\\\',\n",
       " 'C:\\\\Program Files\\\\Common Files\\\\Intel\\\\WirelessCommon\\\\',\n",
       " 'D:\\\\Program Files (x86)\\\\Steam',\n",
       " 'C:\\\\Users\\\\cpeng\\\\AppData\\\\Local\\\\Microsoft\\\\WindowsApps',\n",
       " 'C:\\\\Users\\\\cpeng\\\\AppData\\\\Roaming\\\\npm',\n",
       " 'f:\\\\Programs\\\\Microsoft VS Code\\\\bin',\n",
       " 'C:\\\\Program Files\\\\Intel\\\\WiFi\\\\bin\\\\',\n",
       " 'C:\\\\Program Files\\\\Common Files\\\\Intel\\\\WirelessCommon\\\\']"
      ]
     },
     "execution_count": 5,
     "metadata": {},
     "output_type": "execute_result"
    }
   ],
   "source": [
    "path = os.environ.get('PATH')\n",
    "path.split(';')"
   ]
  },
  {
   "cell_type": "markdown",
   "metadata": {},
   "source": [
    "要获取某个环境变量的值，可以调用os.environ.get('key')"
   ]
  },
  {
   "cell_type": "code",
   "execution_count": 6,
   "metadata": {},
   "outputs": [
    {
     "data": {
      "text/plain": [
       "'C:\\\\Windows'"
      ]
     },
     "execution_count": 6,
     "metadata": {},
     "output_type": "execute_result"
    }
   ],
   "source": [
    "os.environ.get('PATH')\n",
    "os.environ.get('windir')"
   ]
  },
  {
   "cell_type": "markdown",
   "metadata": {},
   "source": [
    "### 操作文件和目录\n",
    "操作文件和目录的函数一部分放在os模块中，一部分放在os.path模块中，这一点要注意一下。查看、创建和删除目录可以这么调用："
   ]
  },
  {
   "cell_type": "code",
   "execution_count": 9,
   "metadata": {},
   "outputs": [
    {
     "data": {
      "text/plain": [
       "['__all__',\n",
       " '__builtins__',\n",
       " '__cached__',\n",
       " '__doc__',\n",
       " '__file__',\n",
       " '__loader__',\n",
       " '__name__',\n",
       " '__package__',\n",
       " '__spec__',\n",
       " '_get_bothseps',\n",
       " '_getfinalpathname',\n",
       " '_getfullpathname',\n",
       " '_getvolumepathname',\n",
       " 'abspath',\n",
       " 'altsep',\n",
       " 'basename',\n",
       " 'commonpath',\n",
       " 'commonprefix',\n",
       " 'curdir',\n",
       " 'defpath',\n",
       " 'devnull',\n",
       " 'dirname',\n",
       " 'exists',\n",
       " 'expanduser',\n",
       " 'expandvars',\n",
       " 'extsep',\n",
       " 'genericpath',\n",
       " 'getatime',\n",
       " 'getctime',\n",
       " 'getmtime',\n",
       " 'getsize',\n",
       " 'isabs',\n",
       " 'isdir',\n",
       " 'isfile',\n",
       " 'islink',\n",
       " 'ismount',\n",
       " 'join',\n",
       " 'lexists',\n",
       " 'normcase',\n",
       " 'normpath',\n",
       " 'os',\n",
       " 'pardir',\n",
       " 'pathsep',\n",
       " 'realpath',\n",
       " 'relpath',\n",
       " 'samefile',\n",
       " 'sameopenfile',\n",
       " 'samestat',\n",
       " 'sep',\n",
       " 'split',\n",
       " 'splitdrive',\n",
       " 'splitext',\n",
       " 'splitunc',\n",
       " 'stat',\n",
       " 'supports_unicode_filenames',\n",
       " 'sys']"
      ]
     },
     "execution_count": 9,
     "metadata": {},
     "output_type": "execute_result"
    }
   ],
   "source": [
    "# 查看当前目录的绝对路径:\n",
    "os.path.abspath('./')\n",
    "# print(os.path.abspath('./'))\n",
    "dir(os.path)"
   ]
  },
  {
   "cell_type": "code",
   "execution_count": 13,
   "metadata": {},
   "outputs": [
    {
     "data": {
      "text/plain": [
       "'F:\\\\sxt\\\\python\\\\pythonNotebook\\\\Python基础\\\\9IO编程image.png'"
      ]
     },
     "execution_count": 13,
     "metadata": {},
     "output_type": "execute_result"
    }
   ],
   "source": [
    "# 在某个目录下创建一个新目录，首先把新目录的完整路径表示出来:\n",
    "# os.path.join('./', 'testdir')\n",
    "# os.path.join('e:/sxt/','python.txt')\n",
    "absPath =  os.path.abspath('./')\n",
    "os.path.join(absPath,'image.png')"
   ]
  },
  {
   "cell_type": "code",
   "execution_count": 12,
   "metadata": {},
   "outputs": [],
   "source": [
    "# 然后创建一个目录:\n",
    "# os.mkdir('./python')\n",
    "with open('./python/abc.html','w') as f:\n",
    "    f.write('<h1>helloWorld</h1>')"
   ]
  },
  {
   "cell_type": "code",
   "execution_count": 16,
   "metadata": {},
   "outputs": [],
   "source": [
    "\n",
    "# 删除文件\n",
    "# os.remove('./python/abc.html')\n",
    "# os.remove('./stduents.txt')\n",
    "# 删掉一个目录:\n",
    "# os.rmdir('./python')\n",
    "os.rmdir('./tt')\n",
    "\n"
   ]
  },
  {
   "cell_type": "markdown",
   "metadata": {},
   "source": [
    "把两个路径合成一个时，不要直接拼字符串，而要通过os.path.join()函数，这样可以正确处理不同操作系统的路径分隔符。在Linux/Unix/Mac下，os.path.join()返回这样的字符串：\n",
    "\n",
    "* part-1/part-2\n",
    "\n",
    "而Windows下会返回这样的字符串：\n",
    "\n",
    "* part-1\\part-2"
   ]
  },
  {
   "cell_type": "markdown",
   "metadata": {},
   "source": [
    "同样的道理，要拆分路径时，也不要直接去拆字符串，而要通过os.path.split()函数，这样可以把一个路径拆分为两部分，后一部分总是最后级别的目录或文件名：\n"
   ]
  },
  {
   "cell_type": "code",
   "execution_count": 17,
   "metadata": {},
   "outputs": [
    {
     "data": {
      "text/plain": [
       "('F:\\\\share\\\\共享\\\\code\\\\Python\\x08asic', 'image.png')"
      ]
     },
     "execution_count": 17,
     "metadata": {},
     "output_type": "execute_result"
    }
   ],
   "source": [
    "# os.path.split('/Users/michael/testdir/file.txt')\n",
    "os.path.split('F:\\share\\共享\\code\\Python\\basic\\image.png')"
   ]
  },
  {
   "cell_type": "code",
   "execution_count": 18,
   "metadata": {},
   "outputs": [
    {
     "data": {
      "text/plain": [
       "('F:\\\\share\\\\共享\\\\code\\\\Python\\x08asic\\\\image', '.png')"
      ]
     },
     "execution_count": 18,
     "metadata": {},
     "output_type": "execute_result"
    }
   ],
   "source": [
    "#os.path.splitext()可以直接让你得到文件扩展名，很多时候非常方便：\n",
    "# os.path.splitext('/path/to/file.txt')\n",
    "os.path.splitext('F:\\share\\共享\\code\\Python\\basic\\image.png')\n"
   ]
  },
  {
   "cell_type": "markdown",
   "metadata": {},
   "source": [
    "这些合并、拆分路径的函数并不要求目录和文件要真实存在，它们只对字符串进行操作。\n",
    "\n",
    "文件操作使用下面的函数。假定当前目录下有一个test.txt文件："
   ]
  },
  {
   "cell_type": "code",
   "execution_count": 20,
   "metadata": {},
   "outputs": [],
   "source": [
    "#对文件重命名\n",
    "# os.rename('test.txt', 'test.py')\n",
    "os.rename('zz.txt','zz.py')"
   ]
  },
  {
   "cell_type": "code",
   "execution_count": 4,
   "metadata": {
    "collapsed": true
   },
   "outputs": [],
   "source": [
    "os.remove('test.py')"
   ]
  },
  {
   "cell_type": "code",
   "execution_count": 19,
   "metadata": {},
   "outputs": [],
   "source": [
    "os.rename('log.txt','abc.py')\n"
   ]
  },
  {
   "cell_type": "code",
   "execution_count": 23,
   "metadata": {},
   "outputs": [
    {
     "data": {
      "text/plain": [
       "'复制成功'"
      ]
     },
     "execution_count": 23,
     "metadata": {},
     "output_type": "execute_result"
    }
   ],
   "source": [
    "# def copyFile(a,b):\n",
    "#     content = ''\n",
    "#     with open(a,'r') as f:\n",
    "#         content = f.read()\n",
    "#     with open(b,'w') as f:\n",
    "#         f.write(content)\n",
    "#     return '复制成功'\n",
    "\n",
    "# copyFile('./abc.py','./zz.txt')\n",
    "\n",
    "\n",
    "# with open('读取的路径') as f:\n",
    "#     content = f.read()\n",
    "    \n",
    "# with open('写入的路径') as f:\n",
    "#     f.write(content)\n",
    "    \n",
    "    \n",
    "def copyFile(a,b):\n",
    "    with open(a,'r') as f:\n",
    "        content = f.read()\n",
    "\n",
    "    with open(b,'w') as f:\n",
    "        f.write(content)\n",
    "    return '复制成功'\n",
    "copyFile('zz.py','aa.txt')"
   ]
  },
  {
   "cell_type": "code",
   "execution_count": 34,
   "metadata": {
    "scrolled": true
   },
   "outputs": [
    {
     "data": {
      "text/plain": [
       "['abc.py', 'czwj.py']"
      ]
     },
     "execution_count": 34,
     "metadata": {},
     "output_type": "execute_result"
    }
   ],
   "source": [
    "#获取文件夹的文件列表\n",
    "os.listdir('./')\n",
    "\n",
    "#判断文件是否是文件夹\n",
    "os.path.isdir('abc.py')\n",
    "#获取文件夹里的文件夹\n",
    "[item for item in os.listdir('./') if not os.path.isdir(item)]\n",
    "\n",
    "os.path.isfile('abc.json')\n",
    "\n",
    "#获取所有后缀名是py的文件\n",
    "[item for item in os.listdir('./') if os.path.splitext(item)[1]=='.py']\n"
   ]
  },
  {
   "cell_type": "markdown",
   "metadata": {},
   "source": [
    "但是复制文件的函数居然在os模块中不存在！原因是复制文件并非由操作系统提供的系统调用。理论上讲，我们通过上一节的读写文件可以完成文件复制，只不过要多写很多代码。\n",
    "\n",
    "幸运的是shutil模块提供了copyfile()的函数，你还可以在shutil模块中找到很多实用函数，它们可以看做是os模块的补充。\n",
    "\n",
    "最后看看如何利用Python的特性来过滤文件。比如我们要列出当前目录下的所有目录，只需要一行代码："
   ]
  },
  {
   "cell_type": "code",
   "execution_count": 18,
   "metadata": {},
   "outputs": [
    {
     "data": {
      "text/plain": [
       "['.ipynb_checkpoints', 'testdir2']"
      ]
     },
     "execution_count": 18,
     "metadata": {},
     "output_type": "execute_result"
    }
   ],
   "source": [
    "[x for x in os.listdir('.') if os.path.isdir(x)]"
   ]
  },
  {
   "cell_type": "code",
   "execution_count": 19,
   "metadata": {},
   "outputs": [
    {
     "data": {
      "text/plain": [
       "[]"
      ]
     },
     "execution_count": 19,
     "metadata": {},
     "output_type": "execute_result"
    }
   ],
   "source": [
    "[x for x in os.listdir('.') if os.path.isfile(x) and os.path.splitext(x)[1]=='.py']"
   ]
  },
  {
   "cell_type": "code",
   "execution_count": 28,
   "metadata": {},
   "outputs": [
    {
     "data": {
      "text/plain": [
       "['IO编程.ipynb',\n",
       " 'StringIO和BytesIO.ipynb',\n",
       " '序列化.ipynb',\n",
       " '操作文件和目录.ipynb',\n",
       " '文件读写.ipynb']"
      ]
     },
     "execution_count": 28,
     "metadata": {},
     "output_type": "execute_result"
    }
   ],
   "source": [
    "os.listdir('.')\n",
    "os.path.isdir('abc.py')\n",
    "[ x for x in os.listdir('.') if os.path.isdir(x)]\n",
    "os.path.splitext('abc.py')\n",
    "[x for x in os.listdir('.') if os.path.splitext(x)[1]=='.ipynb']"
   ]
  },
  {
   "cell_type": "markdown",
   "metadata": {},
   "source": [
    "### 小结\n",
    "Python的os模块封装了操作系统的目录和文件操作，要注意这些函数有的在os模块中，有的在os.path模块中。"
   ]
  },
  {
   "cell_type": "code",
   "execution_count": null,
   "metadata": {
    "collapsed": true
   },
   "outputs": [],
   "source": []
  }
 ],
 "metadata": {
  "kernelspec": {
   "display_name": "Python 3",
   "language": "python",
   "name": "python3"
  },
  "language_info": {
   "codemirror_mode": {
    "name": "ipython",
    "version": 3
   },
   "file_extension": ".py",
   "mimetype": "text/x-python",
   "name": "python",
   "nbconvert_exporter": "python",
   "pygments_lexer": "ipython3",
   "version": "3.6.5"
  }
 },
 "nbformat": 4,
 "nbformat_minor": 2
}
