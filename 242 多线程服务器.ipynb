{
 "cells": [
  {
   "cell_type": "code",
   "execution_count": 1,
   "metadata": {},
   "outputs": [
    {
     "name": "stdout",
     "output_type": "stream",
     "text": [
      "Writing threadServer.py\n"
     ]
    }
   ],
   "source": [
    "%%writefile threadServer.py\n",
    "#coding=utf-8\n",
    "from socket import *\n",
    "from threading import Thread\n",
    "from time import sleep\n",
    "\n",
    "# 处理客户端的请求并执行事情\n",
    "def dealWithClient(newSocket,destAddr):\n",
    "    while True:\n",
    "        recvData = newSocket.recv(1024).decode('gbk')\n",
    "        if len(recvData)>0:\n",
    "            print('recv[%s]:%s'%(str(destAddr), recvData))\n",
    "            newSocket.send(b'thread Ok!')\n",
    "        else:\n",
    "            print('[%s]客户端已经关闭'%str(destAddr))\n",
    "            break\n",
    "\n",
    "    newSocket.close()\n",
    "\n",
    "\n",
    "def main():\n",
    "\n",
    "    serSocket = socket(AF_INET, SOCK_STREAM)\n",
    "    serSocket.setsockopt(SOL_SOCKET, SO_REUSEADDR  , 1)\n",
    "    localAddr = ('', 7788)\n",
    "    serSocket.bind(localAddr)\n",
    "    serSocket.listen(5)\n",
    "\n",
    "    try:\n",
    "        while True:\n",
    "            print('-----主进程，，等待新客户端的到来------')\n",
    "            newSocket,destAddr = serSocket.accept()\n",
    "\n",
    "            print('-----主进程，，接下来创建一个新的进程负责数据处理[%s]-----'%str(destAddr))\n",
    "            client = Thread(target=dealWithClient, args=(newSocket,destAddr))\n",
    "            client.start()\n",
    "\n",
    "            #因为线程中共享这个套接字，如果关闭了会导致这个套接字不可用，\n",
    "            #但是此时在线程中这个套接字可能还在收数据，因此不能关闭\n",
    "#             newSocket.close() \n",
    "    finally:\n",
    "        serSocket.close()\n",
    "\n",
    "if __name__ == '__main__':\n",
    "    main()"
   ]
  },
  {
   "cell_type": "code",
   "execution_count": null,
   "metadata": {},
   "outputs": [],
   "source": []
  }
 ],
 "metadata": {
  "kernelspec": {
   "display_name": "Python 3",
   "language": "python",
   "name": "python3"
  },
  "language_info": {
   "codemirror_mode": {
    "name": "ipython",
    "version": 3
   },
   "file_extension": ".py",
   "mimetype": "text/x-python",
   "name": "python",
   "nbconvert_exporter": "python",
   "pygments_lexer": "ipython3",
   "version": "3.6.5"
  }
 },
 "nbformat": 4,
 "nbformat_minor": 2
}
