{
 "cells": [
  {
   "cell_type": "code",
   "execution_count": 1,
   "metadata": {},
   "outputs": [
    {
     "name": "stdout",
     "output_type": "stream",
     "text": [
      "Writing processServer.py\n"
     ]
    }
   ],
   "source": [
    "%%writefile processServer.py\n",
    "#多进程服务器\n",
    "\n",
    "from socket import *\n",
    "from multiprocessing import *\n",
    "from time import sleep\n",
    "\n",
    "# 处理客户端的请求并为其服务\n",
    "def dealWithClient(newSocket,destAddr):\n",
    "    while True:\n",
    "        recvData = newSocket.recv(1024).decode('gbk')\n",
    "        if len(recvData)>0:\n",
    "            print('recv[%s]:%s'%(str(destAddr), recvData))\n",
    "            newSocket.send(b'ok!')\n",
    "        else:\n",
    "            print('[%s]客户端已经关闭'%str(destAddr))\n",
    "            break\n",
    "\n",
    "    newSocket.close()\n",
    "\n",
    "\n",
    "def main():\n",
    "\n",
    "    serSocket = socket(AF_INET, SOCK_STREAM)\n",
    "    serSocket.setsockopt(SOL_SOCKET, SO_REUSEADDR  , 1)\n",
    "    localAddr = ('', 7788)\n",
    "    serSocket.bind(localAddr)\n",
    "    serSocket.listen(5)\n",
    "\n",
    "    try:\n",
    "        while True:\n",
    "            print('-----主进程，，等待新客户端的到来------')\n",
    "            newSocket,destAddr = serSocket.accept()\n",
    "\n",
    "            print('-----主进程，，接下来创建一个新的进程负责数据处理[%s]-----'%str(destAddr))\n",
    "            client = Process(target=dealWithClient, args=(newSocket,destAddr))\n",
    "            client.start()\n",
    "\n",
    "            #因为已经向子进程中copy了一份（引用），并且父进程中这个套接字也没有用处了\n",
    "            #所以关闭\n",
    "            newSocket.close()\n",
    "    finally:\n",
    "        #当为所有的客户端服务完之后再进行关闭，表示不再接收新的客户端的链接\n",
    "        serSocket.close()\n",
    "\n",
    "if __name__ == '__main__':\n",
    "    main()"
   ]
  },
  {
   "cell_type": "code",
   "execution_count": null,
   "metadata": {},
   "outputs": [],
   "source": []
  }
 ],
 "metadata": {
  "kernelspec": {
   "display_name": "Python 3",
   "language": "python",
   "name": "python3"
  },
  "language_info": {
   "codemirror_mode": {
    "name": "ipython",
    "version": 3
   },
   "file_extension": ".py",
   "mimetype": "text/x-python",
   "name": "python",
   "nbconvert_exporter": "python",
   "pygments_lexer": "ipython3",
   "version": "3.6.5"
  }
 },
 "nbformat": 4,
 "nbformat_minor": 2
}
