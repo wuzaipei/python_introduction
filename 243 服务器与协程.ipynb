{
 "cells": [
  {
   "cell_type": "markdown",
   "metadata": {},
   "source": [
    "## 协程\n",
    "协程，又称微线程，纤程。英文名Coroutine。\n",
    "\n",
    "### 协程是啥\n",
    "首先我们得知道协程是啥？协程其实可以认为是比线程更小的执行单元。 为啥说他是一个执行单元，因为他自带CPU上下文。这样只要在合适的时机， 我们可以把一个协程 切换到另一个协程。 只要这个过程中保存或恢复 CPU上下文那么程序还是可以运行的。\n",
    "\n",
    "通俗的理解：在一个线程中的某个函数，可以在任何地方保存当前函数的一些临时变量等信息，然后切换到另外一个函数中执行，注意不是通过调用函数的方式做到的，并且切换的次数以及什么时候再切换到原来的函数都由开发者自己确定\n",
    "\n",
    "### 协程和线程差异\n",
    "那么这个过程看起来比线程差不多。其实不然, 线程切换从系统层面远不止保存和恢复 CPU上下文这么简单。 操作系统为了程序运行的高效性每个线程都有自己缓存Cache等等数据，操作系统还会帮你做这些数据的恢复操作。 所以线程的切换非常耗性能。但是协程的切换只是单纯的操作CPU的上下文，所以一秒钟切换个上百万次系统都抗的住。\n",
    "\n",
    "### 协程的问题\n",
    "但是协程有一个问题，就是系统并不感知，所以操作系统不会帮你做切换。 那么谁来帮你做切换？让需要执行的协程更多的获得CPU时间才是问题的关键。\n",
    "\n",
    "### 例子\n",
    "目前的协程框架一般都是设计成 1:N 模式。所谓 1:N 就是一个线程作为一个容器里面放置多个协程。 那么谁来适时的切换这些协程？答案是有协程自己主动让出CPU，也就是每个协程池里面有一个调度器， 这个调度器是被动调度的。意思就是他不会主动调度。而且当一个协程发现自己执行不下去了(比如异步等待网络的数据回来，但是当前还没有数据到)， 这个时候就可以由这个协程通知调度器，这个时候执行到调度器的代码，调度器根据事先设计好的调度算法找到当前最需要CPU的协程。 切换这个协程的CPU上下文把CPU的运行权交个这个协程，直到这个协程出现执行不下去需要等等的情况，或者它调用主动让出CPU的API之类，触发下一次调度。\n",
    "\n",
    "### 那么这个实现有没有问题？\n",
    "其实是有问题的，假设这个线程中有一个协程是CPU密集型的他没有IO操作， 也就是自己不会主动触发调度器调度的过程，那么就会出现其他协程得不到执行的情况， 所以这种情况下需要程序员自己避免。这是一个问题，假设业务开发的人员并不懂这个原理的话就可能会出现问题。\n",
    "\n",
    "### 协程的好处\n",
    "在IO密集型的程序中由于IO操作远远慢于CPU的操作，所以往往需要CPU去等IO操作。 同步IO下系统需要切换线程，让操作系统可以在IO过程中执行其他的东西。 这样虽然代码是符合人类的思维习惯但是由于大量的线程切换带来了大量的性能的浪费，尤其是IO密集型的程序。\n",
    "\n",
    "所以人们发明了异步IO。就是当数据到达的时候触发我的回调。来减少线程切换带来性能损失。 但是这样的坏处也是很大的，主要的坏处就是操作被 “分片” 了，代码写的不是 “一气呵成” 这种。 而是每次来段数据就要判断 数据够不够处理哇，够处理就处理吧，不够处理就在等等吧。这样代码的可读性很低，其实也不符合人类的习惯。\n",
    "\n",
    "但是协程可以很好解决这个问题。比如 把一个IO操作 写成一个协程。当触发IO操作的时候就自动让出CPU给其他协程。要知道协程的切换很轻的。 协程通过这种对异步IO的封装 既保留了性能也保证了代码的容易编写和可读性。在高IO密集型的程序下很好。但是高CPU密集型的程序下没啥好处。\n",
    "### 协程一个简单实现"
   ]
  },
  {
   "cell_type": "code",
   "execution_count": 7,
   "metadata": {},
   "outputs": [
    {
     "name": "stdout",
     "output_type": "stream",
     "text": [
      "----B---\n",
      "----A---\n",
      "----B---\n",
      "----A---\n",
      "----B---\n",
      "----A---\n",
      "----B---\n",
      "----A---\n",
      "----B---\n",
      "----A---\n"
     ]
    }
   ],
   "source": [
    "import time\n",
    "\n",
    "def A():\n",
    "    while True:\n",
    "        print(\"----A---\")\n",
    "        yield\n",
    "        time.sleep(0.5)\n",
    "\n",
    "def B(c):\n",
    "    n = 5\n",
    "    while n>0:\n",
    "        print(\"----B---\")\n",
    "        c.__next__()# next(c)\n",
    "        time.sleep(0.5)\n",
    "        n = n-1\n",
    "\n",
    "if __name__=='__main__':\n",
    "    a = A()\n",
    "    B(a)"
   ]
  },
  {
   "cell_type": "code",
   "execution_count": 6,
   "metadata": {},
   "outputs": [
    {
     "name": "stdout",
     "output_type": "stream",
     "text": [
      "----A---\n",
      "----B---\n",
      "----A---\n",
      "----B---\n",
      "----A---\n",
      "----B---\n",
      "----A---\n",
      "----B---\n",
      "----A---\n",
      "----B---\n"
     ]
    }
   ],
   "source": [
    "import time\n",
    "\n",
    "def A():\n",
    "    while True:\n",
    "        print(\"----A---\")\n",
    "        yield\n",
    "        time.sleep(0.5)\n",
    "\n",
    "        \n",
    "        \n",
    "def B():\n",
    "    while True:\n",
    "        print(\"----B---\")\n",
    "        yield\n",
    "        time.sleep(0.5)\n",
    "\n",
    "if __name__=='__main__':\n",
    "    a = A()\n",
    "    b = B()\n",
    "#     next(a)\n",
    "#     next(b)\n",
    "    n = 5\n",
    "    while n>0:\n",
    "        next(a)\n",
    "        next(b)\n",
    "        n = n -1"
   ]
  },
  {
   "cell_type": "markdown",
   "metadata": {},
   "source": [
    "### 协程-greenlet版\n",
    "为了更好使用协程来完成多任务，python中的greenlet模块对其封装，从而使得切换任务变的更加简单\n",
    "\n",
    "### 安装方式\n",
    "使用如下命令安装greenlet模块:\n",
    "\n",
    "**sudo pip install greenlet**"
   ]
  },
  {
   "cell_type": "code",
   "execution_count": 9,
   "metadata": {},
   "outputs": [
    {
     "name": "stdout",
     "output_type": "stream",
     "text": [
      "---A--\n",
      "---B--\n",
      "---A--\n",
      "---B--\n",
      "---A--\n",
      "---B--\n",
      "---A--\n",
      "---B--\n",
      "---A--\n",
      "---B--\n",
      "---A--\n",
      "---B--\n",
      "---A--\n"
     ]
    },
    {
     "ename": "KeyboardInterrupt",
     "evalue": "",
     "output_type": "error",
     "traceback": [
      "\u001b[1;31m---------------------------------------------------------------------------\u001b[0m",
      "\u001b[1;31mKeyboardInterrupt\u001b[0m                         Traceback (most recent call last)",
      "\u001b[1;32m<ipython-input-9-36f52673d83d>\u001b[0m in \u001b[0;36m<module>\u001b[1;34m()\u001b[0m\n\u001b[0;32m     18\u001b[0m \u001b[1;33m\u001b[0m\u001b[0m\n\u001b[0;32m     19\u001b[0m \u001b[1;31m#切换到gr1中运行\u001b[0m\u001b[1;33m\u001b[0m\u001b[1;33m\u001b[0m\u001b[0m\n\u001b[1;32m---> 20\u001b[1;33m \u001b[0mgr1\u001b[0m\u001b[1;33m.\u001b[0m\u001b[0mswitch\u001b[0m\u001b[1;33m(\u001b[0m\u001b[1;33m)\u001b[0m\u001b[1;33m\u001b[0m\u001b[0m\n\u001b[0m",
      "\u001b[1;32m<ipython-input-9-36f52673d83d>\u001b[0m in \u001b[0;36mtest2\u001b[1;34m()\u001b[0m\n\u001b[0;32m     12\u001b[0m         \u001b[0mprint\u001b[0m \u001b[1;33m(\u001b[0m\u001b[1;34m\"---B--\"\u001b[0m\u001b[1;33m)\u001b[0m\u001b[1;33m\u001b[0m\u001b[0m\n\u001b[0;32m     13\u001b[0m         \u001b[0mgr1\u001b[0m\u001b[1;33m.\u001b[0m\u001b[0mswitch\u001b[0m\u001b[1;33m(\u001b[0m\u001b[1;33m)\u001b[0m\u001b[1;33m\u001b[0m\u001b[0m\n\u001b[1;32m---> 14\u001b[1;33m         \u001b[0mtime\u001b[0m\u001b[1;33m.\u001b[0m\u001b[0msleep\u001b[0m\u001b[1;33m(\u001b[0m\u001b[1;36m0.5\u001b[0m\u001b[1;33m)\u001b[0m\u001b[1;33m\u001b[0m\u001b[0m\n\u001b[0m\u001b[0;32m     15\u001b[0m \u001b[1;33m\u001b[0m\u001b[0m\n\u001b[0;32m     16\u001b[0m \u001b[0mgr1\u001b[0m \u001b[1;33m=\u001b[0m \u001b[0mgreenlet\u001b[0m\u001b[1;33m(\u001b[0m\u001b[0mtest1\u001b[0m\u001b[1;33m)\u001b[0m \u001b[1;31m#协程对象greenlet\u001b[0m\u001b[1;33m\u001b[0m\u001b[0m\n",
      "\u001b[1;31mKeyboardInterrupt\u001b[0m: "
     ]
    }
   ],
   "source": [
    "from greenlet import greenlet\n",
    "import time\n",
    "\n",
    "def test1():\n",
    "    while True:\n",
    "        print (\"---A--\")\n",
    "        gr2.switch()\n",
    "        time.sleep(0.5)\n",
    "\n",
    "def test2():\n",
    "    while True:\n",
    "        print (\"---B--\")\n",
    "        gr1.switch()\n",
    "        time.sleep(0.5)\n",
    "\n",
    "gr1 = greenlet(test1) #协程对象greenlet\n",
    "gr2 = greenlet(test2)\n",
    "\n",
    "#切换到gr1中运行\n",
    "gr1.switch()"
   ]
  },
  {
   "cell_type": "markdown",
   "metadata": {},
   "source": [
    "### gevent\n",
    "greenlet已经实现了协程，但是这个还的人工切换，是不是觉得太麻烦了，不要捉急，python还有一个比greenlet更强大的并且能够自动切换任务的模块gevent\n",
    "\n",
    "其原理是当一个greenlet遇到IO(指的是input output 输入输出，比如网络、文件操作等)操作时，比如访问网络，就自动切换到其他的greenlet，等到IO操作完成，再在适当的时候切换回来继续执行。\n",
    "\n",
    "由于IO操作非常耗时，经常使程序处于等待状态，有了gevent为我们自动切换协程，就保证总有greenlet在运行，而不是等待IO\n",
    "\n",
    "### 1. gevent的使用\n"
   ]
  },
  {
   "cell_type": "code",
   "execution_count": 3,
   "metadata": {},
   "outputs": [
    {
     "name": "stdout",
     "output_type": "stream",
     "text": [
      "2\n",
      "---A--\n",
      "---B--\n",
      "2\n",
      "---C--\n",
      "1\n",
      "---A--\n",
      "2\n",
      "---B--\n",
      "1\n",
      "---C--\n",
      "1\n"
     ]
    }
   ],
   "source": [
    "#coding=utf-8\\\n",
    "\n",
    "import gevent\n",
    "from gevent import monkey\n",
    "import time\n",
    "\n",
    "def f(n):\n",
    "    for i in range(n):\n",
    "        print (gevent.getcurrent(), i)\n",
    "        \n",
    "def test1(n):\n",
    "    n = 2\n",
    "    \n",
    "    while n>0:\n",
    "        print(n)\n",
    "        print (\"---A--\")\n",
    "#         time.sleep(0.5)\n",
    "        gevent.sleep(1)\n",
    "        n = n-1\n",
    "def test2(n):\n",
    "    n = 2\n",
    "    while n>0:\n",
    "        print (\"---B--\")\n",
    "#         time.sleep(0.5)\n",
    "        gevent.sleep(1)\n",
    "        print(n)\n",
    "        n = n-1\n",
    "        \n",
    "def test3(n):\n",
    "    n = 2\n",
    "    while n>0:\n",
    "        print(n)\n",
    "        print (\"---C--\")\n",
    "#         time.sleep(0.5)\n",
    "        gevent.sleep(1)\n",
    "        n = n-1\n",
    "\n",
    "g1 = gevent.spawn(test1, 5)\n",
    "g2 = gevent.spawn(test2, 5)\n",
    "g3 = gevent.spawn(test3, 5)\n",
    "g1.join()\n",
    "g2.join()\n",
    "g3.join()"
   ]
  },
  {
   "cell_type": "code",
   "execution_count": 4,
   "metadata": {},
   "outputs": [
    {
     "name": "stderr",
     "output_type": "stream",
     "text": [
      "C:\\ProgramData\\Anaconda3\\lib\\site-packages\\ipykernel_launcher.py:6: MonkeyPatchWarning: Monkey-patching ssl after ssl has already been imported may lead to errors, including RecursionError on Python 3.6. Please monkey-patch earlier. See https://github.com/gevent/gevent/issues/1016\n",
      "  \n"
     ]
    },
    {
     "name": "stdout",
     "output_type": "stream",
     "text": [
      "2\n",
      "---A--\n",
      "---B--\n",
      "2\n",
      "---C--\n",
      "1\n",
      "---A--\n",
      "2\n",
      "---B--\n",
      "1\n",
      "---C--\n",
      "1\n"
     ]
    },
    {
     "name": "stderr",
     "output_type": "stream",
     "text": [
      "C:\\ProgramData\\Anaconda3\\lib\\site-packages\\gevent\\hub.py:154: UserWarning: libuv only supports millisecond timer resolution; all times less will be set to 1 ms\n",
      "  with loop.timer(seconds, ref=ref) as t:\n"
     ]
    }
   ],
   "source": [
    "#coding=utf-8\\\n",
    "\n",
    "import gevent\n",
    "from gevent import monkey\n",
    "import time\n",
    "monkey.patch_all()\n",
    "\n",
    "def f(n):\n",
    "    for i in range(n):\n",
    "        print (gevent.getcurrent(), i)\n",
    "        \n",
    "def test1(n):\n",
    "    n = 2\n",
    "    \n",
    "    while n>0:\n",
    "        print(n)\n",
    "        print (\"---A--\")\n",
    "        time.sleep(0.5)\n",
    "#         gevent.sleep(1)\n",
    "        n = n-1\n",
    "def test2(n):\n",
    "    n = 2\n",
    "    while n>0:\n",
    "        print (\"---B--\")\n",
    "        time.sleep(0.5)\n",
    "#         gevent.sleep(1)\n",
    "        print(n)\n",
    "        n = n-1\n",
    "        \n",
    "def test3(n):\n",
    "    n = 2\n",
    "    while n>0:\n",
    "        print(n)\n",
    "        print (\"---C--\")\n",
    "        time.sleep(0.5)\n",
    "#         gevent.sleep(1)\n",
    "        n = n-1\n",
    "\n",
    "g1 = gevent.spawn(test1, 5)\n",
    "g2 = gevent.spawn(test2, 5)\n",
    "g3 = gevent.spawn(test3, 5)\n",
    "g1.join()\n",
    "g2.join()\n",
    "g3.join()"
   ]
  },
  {
   "cell_type": "markdown",
   "metadata": {},
   "source": [
    "### 2. gevent切换执行\n",
    "\n",
    "\n",
    "* gevent导入\n",
    "* 设置协程要执行的函数（任务）\n",
    "* gevent.spawn(协程要执行的函数，参数)实例化协程对象\n",
    "* g1.join()来阻塞主线程运转，直到协程运转完毕\n",
    "\n",
    "\n",
    "** gevent 协程的切换时根据是否有阻塞进行，而且这个阻塞需要gevent能够识别，如果是系统的，你需要加上monkey.patch_all()** \n",
    "\n"
   ]
  },
  {
   "cell_type": "code",
   "execution_count": null,
   "metadata": {},
   "outputs": [],
   "source": [
    "import gevent\n",
    "\n",
    "def f(n):\n",
    "    for i in range(n):\n",
    "        print gevent.getcurrent(), i\n",
    "        #用来模拟一个耗时操作，注意不是time模块中的sleep\n",
    "        gevent.sleep(1)\n",
    "\n",
    "\n",
    "g1 = gevent.spawn(f, 5)\n",
    "g2 = gevent.spawn(f, 5)\n",
    "g3 = gevent.spawn(f, 5)\n",
    "g1.join()\n",
    "g2.join()\n",
    "g3.join()"
   ]
  },
  {
   "cell_type": "code",
   "execution_count": null,
   "metadata": {},
   "outputs": [
    {
     "name": "stderr",
     "output_type": "stream",
     "text": [
      "C:\\ProgramData\\Anaconda3\\lib\\site-packages\\ipykernel_launcher.py:7: MonkeyPatchWarning: Monkey-patching ssl after ssl has already been imported may lead to errors, including RecursionError on Python 3.6. Please monkey-patch earlier. See https://github.com/gevent/gevent/issues/1016\n",
      "  import sys\n"
     ]
    },
    {
     "name": "stdout",
     "output_type": "stream",
     "text": [
      "recv: nihao\n",
      "recv: hello\n",
      "recv: zailai\n",
      "recv: helloyyyy\n"
     ]
    }
   ],
   "source": [
    "### gevent版-TCP服务器\n",
    "import sys\n",
    "import time\n",
    "import gevent\n",
    "\n",
    "from gevent import socket,monkey\n",
    "monkey.patch_all()\n",
    "\n",
    "def handle_request(conn):\n",
    "    while True:\n",
    "        data = conn.recv(1024).decode('gbk')\n",
    "        if not data:\n",
    "            conn.close()\n",
    "            break\n",
    "        print(\"recv:\", data)\n",
    "        conn.send(b'ok')\n",
    "\n",
    "\n",
    "def server(port):\n",
    "    s = socket.socket()\n",
    "    s.bind(('', port))\n",
    "    s.listen(5)\n",
    "    while True:\n",
    "        cli, addr = s.accept()\n",
    "        gevent.spawn(handle_request, cli)\n",
    "\n",
    "if __name__ == '__main__':\n",
    "    server(7788)"
   ]
  },
  {
   "cell_type": "code",
   "execution_count": null,
   "metadata": {},
   "outputs": [],
   "source": []
  }
 ],
 "metadata": {
  "kernelspec": {
   "display_name": "Python 3",
   "language": "python",
   "name": "python3"
  },
  "language_info": {
   "codemirror_mode": {
    "name": "ipython",
    "version": 3
   },
   "file_extension": ".py",
   "mimetype": "text/x-python",
   "name": "python",
   "nbconvert_exporter": "python",
   "pygments_lexer": "ipython3",
   "version": "3.6.5"
  }
 },
 "nbformat": 4,
 "nbformat_minor": 2
}
